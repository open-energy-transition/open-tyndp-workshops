{
 "cells": [
  {
   "cell_type": "markdown",
   "metadata": {},
   "source": [
    "# Workshop 1: Introduction to `PyPSA` & TYNDP reference grids"
   ]
  },
  {
   "cell_type": "markdown",
   "metadata": {},
   "source": [
    "<img src=\"https://github.com/fneum/data-science-for-esm/raw/main/data-science-for-esm/pypsa-logo.png\" width=\"300px\" />\n",
    "\n",
    "PyPSA stands for **Python for Power System Analysis**.\n",
    "\n",
    "PyPSA is an open source Python package for simulating and optimising modern energy systems that include features such as\n",
    "\n",
    "- conventional generators with unit commitment (ramp-up, ramp-down, start-up, shut-down),\n",
    "- time-varying wind and solar generation,\n",
    "- energy storage with efficiency losses and inflow/spillage for hydroelectricity\n",
    "- coupling to other energy sectors (electricity, transport, heat, industry),\n",
    "- conversion between energy carriers (e.g. electricity to hydrogen),\n",
    "- transmission networks (AC, DC, other fuels)\n",
    "\n",
    "PyPSA can be used for a variety of problem types (e.g. electricity market modelling, long-term investment planning, transmission network expansion planning), and is designed to scale well with large networks and long time series.\n",
    "\n",
    "Compared to building power system by hand in `linopy`, PyPSA does the following things for you:\n",
    "\n",
    "- manage data inputs\n",
    "- build optimisation problem\n",
    "- communicate with the solver\n",
    "- retrieve and process optimisation results\n",
    "- manage data outputs\n",
    "\n",
    "### Dependencies\n",
    "\n",
    "- `pandas` for storing data about network components and time series\n",
    "- `numpy` and `scipy` for linear algebra and sparse matrix calculations\n",
    "- `matplotlib` and `cartopy` for plotting on a map\n",
    "- `networkx` for network calculations\n",
    "- `linopy` for handling optimisation problems"
   ]
  },
  {
   "cell_type": "markdown",
   "metadata": {},
   "source": [
    ":::{note}\n",
    "Documentation for this package is available at https://pypsa.readthedocs.io.\n",
    ":::"
   ]
  },
  {
   "cell_type": "markdown",
   "metadata": {},
   "source": [
    "## Basic Structure"
   ]
  },
  {
   "cell_type": "markdown",
   "metadata": {},
   "source": [
    "| Component | Description |\n",
    "| --- | --- |\n",
    "| [Network](https://pypsa.readthedocs.io/en/latest/components.html#network) | Container for all components. |\n",
    "| [Bus](https://pypsa.readthedocs.io/en/latest/components.html#bus) | Node where components attach. |\n",
    "| [Carrier](https://pypsa.readthedocs.io/en/latest/components.html#carrier) | Energy carrier or technology (e.g. electricity, hydrogen, gas, coal, oil, biomass, on-/offshore wind, solar). Can track properties such as specific carbon dioxide emissions or nice names and colors for plots. |\n",
    "| [Load](https://pypsa.readthedocs.io/en/latest/components.html#load) | Energy consumer (e.g. electricity demand). |\n",
    "| [Generator](https://pypsa.readthedocs.io/en/latest/components.html#generator) | Generator (e.g. power plant, wind turbine, PV panel). |\n",
    "| [Link](https://pypsa.readthedocs.io/en/latest/components.html#link) | Links connect two buses with controllable energy flow, direction-control and losses. They can be used to model: <ul><li>HVDC links</li><li>HVAC lines (neglecting KVL, only net transfer capacities (NTCs))</li><li>conversion between carriers (e.g. electricity to hydrogen in electrolysis)</li></ul> |\n",
    "| [GlobalConstraint](https://pypsa.readthedocs.io/en/latest/components.html#global-constraints) | Constraints affecting many components at once, such as emission limits. |\n",
    "| **Not covered in this workshop** |  |\n",
    "| [Line](https://pypsa.readthedocs.io/en/latest/components.html#line) | Power distribution and transmission lines (overhead and cables). |\n",
    "| [LineType](https://pypsa.readthedocs.io/en/latest/components.html#line-types) | Standard line types. |\n",
    "| [Transformer](https://pypsa.readthedocs.io/en/latest/components.html#transformer) | 2-winding transformer. |\n",
    "| [TransformerType](https://pypsa.readthedocs.io/en/latest/components.html#transformer-types) | Standard types of 2-winding transformer. |\n",
    "| [ShuntImpedance](https://pypsa.readthedocs.io/en/latest/components.html#shunt-impedance) | Shunt. |\n",
    "| [StorageUnit](https://pypsa.readthedocs.io/en/latest/components.html#storage-unit) | Storage with fixed nominal energy-to-power ratio. |\n",
    "| [Store](https://pypsa.readthedocs.io/en/latest/components.html#store) | Storage with separately extendable energy capacity. |\n",
    "\n",
    "\n",
    ":::{note}\n",
    "Links in the table lead to documentation for each component.\n",
    ":::\n",
    "\n",
    "<img src=\"https://pypsa.readthedocs.io/en/latest/_images/buses.png\" width=\"500px\" />\n"
   ]
  },
  {
   "cell_type": "markdown",
   "metadata": {},
   "source": [
    ":::{warning}\n",
    "Per unit values of voltage and impedance are used internally for network calculations. It is assumed internally that the base power is **1 MW**.\n",
    ":::\n",
    "\n",
    "## From structured data to optimisation\n",
    "\n",
    "The design principle of PyPSA is that basically each component is associated with a set of variables and constraints that will be added to the optimisation model based on the input data stored for the components.\n",
    "\n",
    "For an *hourly* electricity market simulation, PyPSA will solve an optimisation problem that looks like this\n",
    "\n",
    "\\begin{equation}\n",
    "\\min_{g_{i,s,t}; f_{\\ell,t}; g_{i,r,t,\\text{charge}}; g_{i,r,t,\\text{discharge}}; e_{i,r,t}} \\sum_s o_{s} g_{i,s,t}\n",
    "\\end{equation}\n",
    "such that\n",
    "\\begin{align}\n",
    "0 & \\leq g_{i,s,t} \\leq \\hat{g}_{i,s,t} G_{i,s}  & \\text{generation limits : generator} \\\\\n",
    "-F_\\ell &\\leq f_{\\ell,t} \\leq F_\\ell & \\text{transmission limits : line}  \\\\\n",
    "d_{i,t} &= \\sum_s g_{i,s,t} + \\sum_r g_{i,r,t,\\text{discharge}} - \\sum_r g_{i,r,t,\\text{charge}} - \\sum_\\ell K_{i\\ell} f_{\\ell,t} & \\text{KCL : bus} \\\\\n",
    " 0 &=\\sum_\\ell C_{\\ell c} x_\\ell f_{\\ell,t} & \\text{KVL : cycles} \\\\\n",
    "0 & \\leq g_{i,r,t,\\text{discharge}} \\leq G_{i,r,\\text{discharge}}& \\text{discharge limits : storage unit} \\\\\n",
    "    0 & \\leq g_{i,r,t,\\text{charge}} \\leq G_{i,r,\\text{charge}} & \\text{charge limits : storage unit} \\\\\n",
    "    0 & \\leq e_{i,r,t} \\leq E_{i,r} & \\text{energy limits : storage unit} \\\\\n",
    "    e_{i,r,t} &= \\eta^0_{i,r,t} e_{i,r,t-1} + \\eta^1_{i,r,t}g_{i,r,t,\\text{charge}} -  \\frac{1}{\\eta^2_{i,r,t}} g_{i,r,t,\\text{discharge}} & \\text{consistency : storage unit} \\\\\n",
    "    e_{i,r,0} & = e_{i,r,|T|-1}  & \\text{cyclicity : storage unit}\n",
    "\\end{align}\n",
    "\n",
    "**Decision variables:**\n",
    "\n",
    "- $g_{i,s,t}$ is the generator dispatch at bus $i$, technology $s$, time step $t$,\n",
    "- $f_{\\ell,t}$ is the power flow in line $\\ell$,\n",
    "- $g_{i,r,t,\\text{dis-/charge}}$ denotes the charge and discharge of storage unit $r$ at bus $i$ and time step $t$,\n",
    "- $e_{i,r,t}$ is the state of charge of storage $r$ at bus $i$ and time step $t$.\n",
    "\n",
    "**Parameters:**\n",
    "\n",
    "- $o_{i,s}$ is the marginal generation cost of technology $s$ at bus $i$,\n",
    "- $x_\\ell$ is the reactance of transmission line $\\ell$,\n",
    "- $K_{i\\ell}$ is the incidence matrix,\n",
    "- $C_{\\ell c}$ is the cycle matrix,\n",
    "- $G_{i,s}$ is the nominal capacity of the generator of technology $s$ at bus $i$,\n",
    "- $F_{\\ell}$ is the rating of the transmission line $\\ell$,\n",
    "- $E_{i,r}$ is the energy capacity of storage $r$ at bus $i$,\n",
    "- $\\eta^{0/1/2}_{i,r,t}$ denote the standing (0), charging (1), and discharging (2) efficiencies.\n",
    "\n",
    ":::{note}\n",
    "For a full reference to the optimisation problem description, see https://pypsa.readthedocs.io/en/latest/optimal_power_flow.html\n",
    ":::"
   ]
  },
  {
   "cell_type": "markdown",
   "metadata": {},
   "source": [
    "# Introduction to pypsa: a minimal dispatch problem\n",
    "\n",
    "<font size=\"2\">*Copyright (c) 2025, Iegor Riepin*</font>"
   ]
  },
  {
   "cell_type": "markdown",
   "metadata": {},
   "source": [
    ":::{note}\n",
    "If you have not yet set up Python on your computer, you can execute this tutorial in your browser via [Google Colab](https://colab.research.google.com/). Click on the rocket in the top right corner and launch \"Colab\". If that doesn't work download the `.ipynb` file and import it in [Google Colab](https://colab.research.google.com/).\n",
    "\n",
    "Then install the following packages by executing the following command in a Jupyter cell at the top of the notebook.\n",
    "\n",
    "```sh\n",
    "!pip install pypsa atlite pandas geopandas xarray matplotlib hvplot geoviews plotly highspy holoviews folium mapclassify\n",
    "```\n",
    ":::"
   ]
  },
  {
   "cell_type": "code",
   "execution_count": null,
   "metadata": {},
   "outputs": [],
   "source": [
    "# To run this notebook in Google Colab, uncomment the following line:\n",
    "# !pip install pypsa atlite pandas geopandas xarray matplotlib hvplot geoviews plotly highspy holoviews folium mapclassify"
   ]
  },
  {
   "cell_type": "code",
   "execution_count": null,
   "metadata": {},
   "outputs": [],
   "source": [
    "# By convention, PyPSA is imported without an alias:\n",
    "import pypsa\n",
    "\n",
    "# Other dependencies\n",
    "import pandas as pd\n",
    "import geopandas as gpd\n",
    "import matplotlib.pyplot as plt\n",
    "import holoviews as hv\n",
    "import hvplot.pandas\n",
    "import cartopy.crs as ccrs\n",
    "import folium\n",
    "import mapclassify\n",
    "from pypsa.plot.maps.static import (\n",
    "    add_legend_circles,\n",
    "    add_legend_patches,\n",
    "    add_legend_lines,\n",
    ")\n",
    "from pathlib import Path\n",
    "\n",
    "plt.style.use(\"bmh\")"
   ]
  },
  {
   "cell_type": "markdown",
   "metadata": {},
   "source": [
    "### Minimal electricity market problem\n",
    "\n",
    "generator 1: \"gas\" -- marginal cost 70 EUR/MWh -- capacity 50 MW\n",
    "\n",
    "generator 2: \"nuclear\" -- marginal cost 10 EUR/MWh -- capacity 100 MW\n",
    "\n",
    "load: \"Consumer\" -- demand 120 MW\n",
    "\n",
    "single time step (\"now\")\n",
    "\n",
    "single node (\"Springfield\")"
   ]
  },
  {
   "cell_type": "markdown",
   "metadata": {},
   "source": [
    "### Building a basic network"
   ]
  },
  {
   "cell_type": "code",
   "execution_count": null,
   "metadata": {},
   "outputs": [],
   "source": [
    "# First, we create a network object which serves as the container for all components\n",
    "n = pypsa.Network(name=\"Demo\")"
   ]
  },
  {
   "cell_type": "code",
   "execution_count": null,
   "metadata": {},
   "outputs": [],
   "source": [
    "n"
   ]
  },
  {
   "cell_type": "markdown",
   "metadata": {},
   "source": [
    "The second component we need are buses. **Buses** are the fundamental nodes of the network, to which all other components like loads, generators and transmission lines attach. They enforce energy conservation for all elements feeding in and out of it (i.e. Kirchhoff’s Current Law).\n",
    "\n",
    "Components can be added to the network `n` using the `n.add()` function. It takes the component name as a first argument, the name of the component as a second argument and possibly further parameters as keyword arguments. Let's use this function, to add buses for each country to our network:"
   ]
  },
  {
   "cell_type": "code",
   "execution_count": null,
   "metadata": {},
   "outputs": [],
   "source": [
    "n.add(\"Carrier\", \"AC\")\n",
    "n.add(\"Bus\", \"Springfield\", v_nom=380, carrier=\"AC\")"
   ]
  },
  {
   "cell_type": "markdown",
   "metadata": {},
   "source": [
    "For each class of components, the data describing the components is stored in a `pandas.DataFrame`. For example, all static data for buses is stored in `n.buses`"
   ]
  },
  {
   "cell_type": "code",
   "execution_count": null,
   "metadata": {},
   "outputs": [],
   "source": [
    "n.buses"
   ]
  },
  {
   "cell_type": "markdown",
   "metadata": {},
   "source": [
    "You see there are many more attributes than we specified while adding the buses; many of them are filled with default parameters which were added. You can look up the field description, defaults and status (required input, optional input, output) for buses here https://pypsa.readthedocs.io/en/latest/components.html#bus, and analogous for all other components.\n",
    "\n",
    "You can also explore attributes yourself."
   ]
  },
  {
   "cell_type": "code",
   "execution_count": null,
   "metadata": {},
   "outputs": [],
   "source": [
    "n.component_attrs[\"Bus\"]\n",
    "# n.component_attrs[\"Generator\"]\n",
    "# n.component_attrs[\"Link\"]\n",
    "# n.component_attrs[\"Load\"]"
   ]
  },
  {
   "cell_type": "markdown",
   "metadata": {},
   "source": [
    "The `n.add()` function lets you add any component to the network object `n`:"
   ]
  },
  {
   "cell_type": "code",
   "execution_count": null,
   "metadata": {},
   "outputs": [],
   "source": [
    "n.add(\n",
    "    \"Generator\",\n",
    "    \"gas\",\n",
    "    carrier=\"AC\",\n",
    "    bus=\"Springfield\",\n",
    "    p_nom_extendable=False,\n",
    "    marginal_cost=70,  # €/MWh\n",
    "    p_nom=50,  # MW\n",
    ")\n",
    "n.add(\n",
    "    \"Generator\",\n",
    "    \"nuclear\",\n",
    "    carrier=\"AC\",\n",
    "    bus=\"Springfield\",\n",
    "    p_nom_extendable=False,\n",
    "    marginal_cost=10,  # €/MWh\n",
    "    p_nom=100,  # MW\n",
    ")"
   ]
  },
  {
   "cell_type": "markdown",
   "metadata": {},
   "source": [
    "The method `n.add()` also allows you to add multiple components at once. For instance, multiple **carriers** for the fuels with information on specific carbon dioxide emissions, a nice name, and colors for plotting. For this, the function takes the component name as the first argument and then a list of component names and then optional arguments for the parameters. Here, scalar values, lists, dictionary or `pandas.Series` are allowed. The latter two needs keys or indices with the component names."
   ]
  },
  {
   "cell_type": "markdown",
   "metadata": {},
   "source": [
    "As a result, the `n.generators` DataFrame looks like this:"
   ]
  },
  {
   "cell_type": "code",
   "execution_count": null,
   "metadata": {},
   "outputs": [],
   "source": [
    "n.generators"
   ]
  },
  {
   "cell_type": "markdown",
   "metadata": {},
   "source": [
    "Next, we're going to add the electricity demand.\n",
    "\n",
    "A positive value for `p_set` means consumption of power from the bus."
   ]
  },
  {
   "cell_type": "code",
   "execution_count": null,
   "metadata": {},
   "outputs": [],
   "source": [
    "n.add(\n",
    "    \"Load\",\n",
    "    \"Small town\",\n",
    "    carrier=\"AC\",\n",
    "    bus=\"Springfield\",\n",
    "    p_set=120,  # MW\n",
    ")"
   ]
  },
  {
   "cell_type": "code",
   "execution_count": null,
   "metadata": {},
   "outputs": [],
   "source": [
    "n.loads"
   ]
  },
  {
   "cell_type": "markdown",
   "metadata": {},
   "source": [
    "## Optimisation"
   ]
  },
  {
   "cell_type": "markdown",
   "metadata": {},
   "source": [
    "The design principle of PyPSA is that basically each component is associated with a set of variables and constraints that will be added to the optimisation model based on the input data stored for the components. \n",
    "\n",
    "For this dispatch problem, PyPSA will solve an optimisation problem that looks like this\n",
    "\n",
    "\\begin{equation}\n",
    "\\min_{g_{s,t};} \\sum_{t,s} o_{s} g_{s,t}\n",
    "\\end{equation}\n",
    "such that\n",
    "\\begin{align}\n",
    "0 & \\leq g_{s,t} \\leq G_{s}  & \\text{generation limits : generator} \\\\\n",
    "D_t &= \\sum_s g_{s,t} & \\text{market clearing : bus} \\\\\n",
    "\\end{align}\n",
    "\n",
    "**Decision variables:**\n",
    "\n",
    "- $g_{s,t}$ is the generator dispatch of technology $s$ at time $t$\n",
    "\n",
    "**Parameters:**\n",
    "\n",
    "- $o_{s}$ is the marginal generation cost of technology $s$\n",
    "- $G_{s}$ is the nominal capacity of technology $s$\n",
    "- $D_t$ is the power demand in Springfiled at time $t$\n"
   ]
  },
  {
   "cell_type": "markdown",
   "metadata": {},
   "source": [
    "With all input data transferred into the PyPSA's data structure (`network`), we can now build and run the resulting optimisation problem. In PyPSA, building, solving and retrieving results from the optimisation model is contained in a single function call `n.optimize()`. This function optimizes dispatch and investment decisions for least cost adhering to the constraints defined in the network.\n",
    "\n",
    "The `n.optimize()` function can take a variety of arguments. The most relevant for the moment is the choice of the solver (e.g. \"highs\" and \"gurobi\"). They need to be installed on your computer, to use them here!"
   ]
  },
  {
   "cell_type": "code",
   "execution_count": null,
   "metadata": {},
   "outputs": [],
   "source": [
    "n.optimize(solver_name=\"highs\")"
   ]
  },
  {
   "cell_type": "markdown",
   "metadata": {},
   "source": [
    "Let's have a look at the results. The network object `n` contains now the objective value and the results for the decision variables."
   ]
  },
  {
   "cell_type": "code",
   "execution_count": null,
   "metadata": {},
   "outputs": [],
   "source": [
    "n.objective"
   ]
  },
  {
   "cell_type": "markdown",
   "metadata": {},
   "source": [
    "Since the power flow and dispatch are generally time-varying quantities, these are stored in a different locations than e.g. `n.generators`. They are stored in `n.generators_t`. Thus, to find out the dispatch of the generators, run"
   ]
  },
  {
   "cell_type": "code",
   "execution_count": null,
   "metadata": {},
   "outputs": [],
   "source": [
    "n.generators_t.p"
   ]
  },
  {
   "cell_type": "code",
   "execution_count": null,
   "metadata": {},
   "outputs": [],
   "source": [
    "n.buses_t.marginal_price"
   ]
  },
  {
   "cell_type": "markdown",
   "metadata": {},
   "source": [
    "## Explore pypsa model"
   ]
  },
  {
   "cell_type": "code",
   "execution_count": null,
   "metadata": {},
   "outputs": [],
   "source": [
    "n.model"
   ]
  },
  {
   "cell_type": "code",
   "execution_count": null,
   "metadata": {},
   "outputs": [],
   "source": [
    "n.model.constraints"
   ]
  },
  {
   "cell_type": "code",
   "execution_count": null,
   "metadata": {},
   "outputs": [],
   "source": [
    "n.model.constraints[\"Generator-fix-p-upper\"]"
   ]
  },
  {
   "cell_type": "code",
   "execution_count": null,
   "metadata": {},
   "outputs": [],
   "source": [
    "n.model.constraints[\"Bus-nodal_balance\"]"
   ]
  },
  {
   "cell_type": "code",
   "execution_count": null,
   "metadata": {},
   "outputs": [],
   "source": [
    "n.model.objective"
   ]
  },
  {
   "cell_type": "markdown",
   "metadata": {},
   "source": [
    "# Building the reference grids\n",
    "\n",
    "The minimal `PyPSA` example illustrates how time-consuming it can be to compose a network by hand. To simplify the work, `PyPSA-Eur` provides a set of scripts that does this for you. It collects and processes open data, composes a network, writes the constraints, solves the operation and capacity expansion problem, collects the result and produces basic summary outputs for analysis.\n",
    "\n",
    "The current `open-tyndp` project aims to adapt `PyPSA-Eur` to the specific needs of the TYNDP process. All the code is openly available in the project repository: [open-tyndp](https://github.com/open-energy-transition/open-tyndp). Currently, the workflow implements the reference grid data for both the electricity and hydrogen networks and solves the network with the default `PyPSA-Eur` demand.\n",
    "\n",
    "As any open-source repository, you can get the code, contribute using pull-requests, reports issues and submit feature requests."
   ]
  },
  {
   "cell_type": "markdown",
   "metadata": {
    "tags": []
   },
   "source": [
    "## Load example data\n",
    "\n",
    "For this workshop, we have prepared networks that can be explored immediately:\n",
    "- `pre-network`: The network prepared by the workflow before solving it.\n",
    "- `post-network`: The solved network.\n",
    "\n",
    "As this workshop focuses on the reference grid, we will also explore the bidding zones data we have created."
   ]
  },
  {
   "cell_type": "code",
   "execution_count": null,
   "metadata": {},
   "outputs": [],
   "source": [
    "from urllib.request import urlretrieve\n",
    "\n",
    "urls = {\n",
    "    \"pre-network.nc\": \"https://drive.google.com/uc?export=download&id=1KizODRyW0UVLKzIY5MZlDZi52zN0tSZc\",\n",
    "    \"post-network.nc\": \"https://drive.google.com/uc?export=download&id=1O9bkv7382rAhnY493aa9SLaXl4AdVfSw\",\n",
    "    \"bidding_zones.geojson\": \"https://drive.google.com/uc?export=download&id=1ZjcNdSiE9OTUetcV1MBV8qn6KIKMYQkM\",\n",
    "}\n",
    "for name, url in urls.items():\n",
    "    print(f\"Retrieve {name} from Google Drive\")\n",
    "    urlretrieve(url, name)\n",
    "print(\"Done\")"
   ]
  },
  {
   "cell_type": "markdown",
   "metadata": {
    "editable": true,
    "slideshow": {
     "slide_type": ""
    },
    "tags": []
   },
   "source": [
    "First, let's load a pre-composed PyPSA Network:"
   ]
  },
  {
   "cell_type": "code",
   "execution_count": null,
   "metadata": {},
   "outputs": [],
   "source": [
    "n = pypsa.Network(\"pre-network.nc\")"
   ]
  },
  {
   "cell_type": "markdown",
   "metadata": {},
   "source": [
    "And let's get a general overview of the components in it:"
   ]
  },
  {
   "cell_type": "code",
   "execution_count": null,
   "metadata": {
    "editable": true,
    "slideshow": {
     "slide_type": ""
    },
    "tags": [
     "hide-output"
    ]
   },
   "outputs": [],
   "source": [
    "n"
   ]
  },
  {
   "cell_type": "markdown",
   "metadata": {},
   "source": [
    "We have buses which represent the different nodes in the model where components attach."
   ]
  },
  {
   "cell_type": "code",
   "execution_count": null,
   "metadata": {},
   "outputs": [],
   "source": [
    "n.buses.head()"
   ]
  },
  {
   "cell_type": "markdown",
   "metadata": {},
   "source": [
    "And let's look at electric buses for a specific country."
   ]
  },
  {
   "cell_type": "code",
   "execution_count": null,
   "metadata": {},
   "outputs": [],
   "source": [
    "n.buses.query(\"country=='IT' and carrier=='AC'\")"
   ]
  },
  {
   "cell_type": "markdown",
   "metadata": {},
   "source": [
    "Generators which represent generating units (e.g. wind turbine, PV panel):"
   ]
  },
  {
   "cell_type": "code",
   "execution_count": null,
   "metadata": {},
   "outputs": [],
   "source": [
    "n.generators.head()"
   ]
  },
  {
   "cell_type": "markdown",
   "metadata": {},
   "source": [
    "Links connect two buses with controllable energy flow, direction-control and losses. They can be used to model: <ul><li>**HVAC lines (neglecting KVL, only net transfer capacities (NTCs))**</li><li>HVDC links</li><li>conversion between carriers (e.g. electricity to hydrogen in electrolysis)</li></ul>\n",
    "\n",
    "PyPSA-Eur uses `DC` as the conventional carrier for electrical transmission lines modelled as `Link`. `AC` is used as the conventional carrier for electrical transmission `Line`."
   ]
  },
  {
   "cell_type": "code",
   "execution_count": null,
   "metadata": {},
   "outputs": [],
   "source": [
    "n.links.head()"
   ]
  },
  {
   "cell_type": "markdown",
   "metadata": {},
   "source": [
    "You can filter a country."
   ]
  },
  {
   "cell_type": "code",
   "execution_count": null,
   "metadata": {},
   "outputs": [],
   "source": [
    "n.links.query(\"Link.str.contains('DE')\").head()"
   ]
  },
  {
   "cell_type": "markdown",
   "metadata": {},
   "source": [
    "The workflow also attaches `Load` to the network. As the load is a time sensitive information, the data is stored in `n.loads_t`. The provided network uses the default PyPSA-Eur loads."
   ]
  },
  {
   "cell_type": "code",
   "execution_count": null,
   "metadata": {},
   "outputs": [],
   "source": [
    "n.loads_t.p_set.head()"
   ]
  },
  {
   "cell_type": "markdown",
   "metadata": {},
   "source": [
    "PyPSA-Eur makes use of `GlobalConstraints` to limit, for example, the total line expansion and the global carbon emissions."
   ]
  },
  {
   "cell_type": "code",
   "execution_count": null,
   "metadata": {},
   "outputs": [],
   "source": [
    "n.global_constraints"
   ]
  },
  {
   "cell_type": "markdown",
   "metadata": {},
   "source": [
    "## Explore bidding zones"
   ]
  },
  {
   "cell_type": "markdown",
   "metadata": {},
   "source": [
    "Let's start by examining the bidding zones, as they define the spatial resolution of the electricity grid for the Scenario Building.\n",
    "\n",
    "Let's load and explore the bidding zone shapes that we created for the model:"
   ]
  },
  {
   "cell_type": "code",
   "execution_count": null,
   "metadata": {},
   "outputs": [],
   "source": [
    "bz = gpd.read_file(\"bidding_zones.geojson\")\n",
    "bz.head()"
   ]
  },
  {
   "cell_type": "markdown",
   "metadata": {},
   "source": [
    "Let's use a nice interactive plotting package to plot the regions.\n",
    "\n",
    "`.hvplot()` is a powerful and interactive Pandas-like `.plot()` API. You just replace `.plot()` with `.hvplot()` and you get an interactive figure.\n",
    "\n",
    "Documentation can be found here: https://hvplot.holoviz.org/index.html"
   ]
  },
  {
   "cell_type": "code",
   "execution_count": null,
   "metadata": {},
   "outputs": [],
   "source": [
    "hv.extension(\"bokeh\")\n",
    "bz.hvplot(\n",
    "    geo=True,\n",
    "    tiles=\"OSM\",\n",
    "    hover_cols=[\"zone_name\", \"country\"],\n",
    "    c=\"zone_name\",\n",
    "    frame_height=700,\n",
    "    frame_width=1000,\n",
    "    alpha=0.2,\n",
    "    legend=False,\n",
    ").opts(xaxis=None, yaxis=None, active_tools=[\"pan\", \"wheel_zoom\"])"
   ]
  },
  {
   "cell_type": "code",
   "execution_count": null,
   "metadata": {},
   "outputs": [],
   "source": [
    "# Task: explore the bidding zones geographies"
   ]
  },
  {
   "cell_type": "markdown",
   "metadata": {},
   "source": [
    "## Explore the Electricity reference grid"
   ]
  },
  {
   "cell_type": "markdown",
   "metadata": {},
   "source": [
    "The Electricity reference grid in the `PyPSA` model was implemented as HVAC lines that neglect KVL and only net transfer capacities (NTCs).\n",
    "\n",
    "This is referred to as a `Transport Model`.\n",
    "\n",
    "In `PyPSA`, this can be represented by the `link` component with carrier set to 'DC'."
   ]
  },
  {
   "cell_type": "markdown",
   "metadata": {},
   "source": [
    "Let's have a look at those links:"
   ]
  },
  {
   "cell_type": "code",
   "execution_count": null,
   "metadata": {},
   "outputs": [],
   "source": [
    "reference_grid_elec = n.links.query(\"carrier == 'DC'\")\n",
    "reference_grid_elec.head()"
   ]
  },
  {
   "cell_type": "markdown",
   "metadata": {},
   "source": [
    "That's a lot of information! Let's filter out some useful attributes."
   ]
  },
  {
   "cell_type": "code",
   "execution_count": null,
   "metadata": {},
   "outputs": [],
   "source": [
    "reference_grid_elec.loc[:, [\"bus0\", \"bus1\", \"p_nom\", \"p_nom_opt\", \"length\"]].head()"
   ]
  },
  {
   "cell_type": "markdown",
   "metadata": {},
   "source": [
    "You can observe that the `p_nom_opt` is not defined yet as this model was not solved yet.\n",
    "\n",
    "You can narrow down to a specific country."
   ]
  },
  {
   "cell_type": "code",
   "execution_count": null,
   "metadata": {},
   "outputs": [],
   "source": [
    "(\n",
    "    reference_grid_elec.loc[:, [\"bus0\", \"bus1\", \"p_nom\", \"p_nom_opt\", \"length\"]].query(\n",
    "        \"Link.str.contains('ES')\"\n",
    "    )\n",
    ")"
   ]
  },
  {
   "cell_type": "markdown",
   "metadata": {},
   "source": [
    "The model implements NTCs as unidirectional links. Electricity flows from `bus0` (source) to `bus1` (sink).\n",
    "\n",
    "With the capacitiy `p_nom` and the `length`, we can also compute the total transmission capacity of the system in `TWkm`:"
   ]
  },
  {
   "cell_type": "code",
   "execution_count": null,
   "metadata": {},
   "outputs": [],
   "source": [
    "total_TWkm = (\n",
    "    reference_grid_elec.p_nom.div(1e6)  # convert from PyPSA's base unit MW to TW\n",
    "    .mul(reference_grid_elec.length)\n",
    "    .sum()\n",
    "    .round(2)\n",
    ")\n",
    "print(\n",
    "    f\"Total electricity reference grid has a transmission capacity of {total_TWkm} TWkm.\"\n",
    ")"
   ]
  },
  {
   "cell_type": "markdown",
   "metadata": {},
   "source": [
    "We can also check some individual number for specific connections using the `.query()` or the `.filter(like='<your-filter>')` method. `.filter` has the limitation to only work on indexes and column names."
   ]
  },
  {
   "cell_type": "code",
   "execution_count": null,
   "metadata": {},
   "outputs": [],
   "source": [
    "# example\n",
    "# `query()`\n",
    "print(reference_grid_elec.query(\"Link.str.contains('DE00-BE00')\").p_nom)  # in MW\n",
    "# or `filter()`\n",
    "print(reference_grid_elec.filter(like=\"DE00-BE00\", axis=0).p_nom)"
   ]
  },
  {
   "cell_type": "code",
   "execution_count": null,
   "metadata": {},
   "outputs": [],
   "source": [
    "# Task: extract and filter for specific capacity information from your home country\n",
    "# and compare with your data about these connections"
   ]
  },
  {
   "cell_type": "code",
   "execution_count": null,
   "metadata": {},
   "outputs": [],
   "source": [
    "# Task: create a table with the import transmission capacity for each country.\n",
    "# Task: which country has the largest total?\n",
    "# Hint: use pandas `groupby` method"
   ]
  },
  {
   "cell_type": "markdown",
   "metadata": {},
   "source": [
    "Additionally, we can also use `PyPSA`'s built in interactive `n.plot.explore()` function to explore the electricity reference grid:"
   ]
  },
  {
   "cell_type": "code",
   "execution_count": null,
   "metadata": {},
   "outputs": [],
   "source": [
    "# create a copy of the network which only includes electricity\n",
    "n_elec_grid = n.copy()\n",
    "n_elec_grid.remove(\n",
    "    \"Bus\", n_elec_grid.buses.query(\"carrier != 'AC' or Bus.str.contains('DRES')\").index\n",
    ")\n",
    "\n",
    "# explore the reference grid\n",
    "n_elec_grid.plot.explore()"
   ]
  },
  {
   "cell_type": "markdown",
   "metadata": {},
   "source": [
    "We can also statically plot the electricity grid by utilizing a handy plotting function:"
   ]
  },
  {
   "cell_type": "code",
   "execution_count": null,
   "metadata": {},
   "outputs": [],
   "source": [
    "def plot_electricity_reference_grid(n, proj, lw_factor=1e3, figsize=(12, 12)):\n",
    "    fig, ax = plt.subplots(figsize=figsize, subplot_kw={\"projection\": proj})\n",
    "    n.plot.map(\n",
    "        ax=ax,\n",
    "        margin=0.06,\n",
    "        link_widths=n.links.p_nom / lw_factor,\n",
    "        link_colors=\"darkseagreen\",\n",
    "    )\n",
    "\n",
    "    if not n.links.empty:\n",
    "        sizes_ntc = [1, 5]\n",
    "        labels_ntc = [f\"NTC ({s} GW)\" for s in sizes_ntc]\n",
    "        scale_ntc = 1e3 / lw_factor\n",
    "        sizes_ntc = [s * scale_ntc for s in sizes_ntc]\n",
    "\n",
    "        legend_kw_dc = dict(\n",
    "            loc=[0.0, 0.9],\n",
    "            frameon=False,\n",
    "            labelspacing=0.5,\n",
    "            handletextpad=1,\n",
    "            fontsize=13,\n",
    "        )\n",
    "\n",
    "        add_legend_lines(\n",
    "            ax,\n",
    "            sizes_ntc,\n",
    "            labels_ntc,\n",
    "            patch_kw=dict(color=\"darkseagreen\"),\n",
    "            legend_kw=legend_kw_dc,\n",
    "        )\n",
    "\n",
    "    plt.show()\n",
    "\n",
    "\n",
    "def load_projection(plotting_params):\n",
    "    proj_kwargs = plotting_params.get(\"projection\", dict(name=\"EqualEarth\"))\n",
    "    proj_func = getattr(ccrs, proj_kwargs.pop(\"name\"))\n",
    "    return proj_func(**proj_kwargs)\n",
    "\n",
    "\n",
    "proj = load_projection(dict(name=\"EqualEarth\"))"
   ]
  },
  {
   "cell_type": "code",
   "execution_count": null,
   "metadata": {},
   "outputs": [],
   "source": [
    "plot_electricity_reference_grid(n_elec_grid, proj)"
   ]
  },
  {
   "cell_type": "markdown",
   "metadata": {},
   "source": [
    "You've just created the reference grid published in the [Scenarios Methodology report from TYNDP 2024](https://2024.entsos-tyndp-scenarios.eu/download/)!"
   ]
  },
  {
   "cell_type": "markdown",
   "metadata": {},
   "source": [
    "## Explore the Hydrogen reference grid"
   ]
  },
  {
   "cell_type": "markdown",
   "metadata": {},
   "source": [
    "Similar to the Electricity reference grid, the H2 reference grid in the `PyPSA` model was implemented using the `link` component to represent the transport model of the Scenario Building.\n",
    "\n",
    "Let's have a look at those Hydrogen reference grid links:"
   ]
  },
  {
   "cell_type": "code",
   "execution_count": null,
   "metadata": {},
   "outputs": [],
   "source": [
    "reference_grid_h2 = n.links.query(\"carrier == 'H2 pipeline'\")\n",
    "reference_grid_h2.head()"
   ]
  },
  {
   "cell_type": "markdown",
   "metadata": {},
   "source": [
    "Again, it's a lot of information! Let's filter out some useful attributes."
   ]
  },
  {
   "cell_type": "code",
   "execution_count": null,
   "metadata": {},
   "outputs": [],
   "source": [
    "reference_grid_h2.loc[:, [\"bus0\", \"bus1\", \"p_nom\", \"p_nom_opt\", \"length\"]].head()"
   ]
  },
  {
   "cell_type": "markdown",
   "metadata": {},
   "source": [
    "Now, focusing on interconnections between two specific countries."
   ]
  },
  {
   "cell_type": "code",
   "execution_count": null,
   "metadata": {},
   "outputs": [],
   "source": [
    "# Task: choose two countries and find the right H2 pipelines connecting the two\n",
    "# Hint: use pandas `query` method"
   ]
  },
  {
   "cell_type": "markdown",
   "metadata": {},
   "source": [
    "Again, we can compute the total transmission capacity of the system in `TWkm`:"
   ]
  },
  {
   "cell_type": "code",
   "execution_count": null,
   "metadata": {},
   "outputs": [],
   "source": [
    "# Task: without looking at the previous section, can you remember how to calculate this"
   ]
  },
  {
   "cell_type": "markdown",
   "metadata": {},
   "source": [
    "Again, we can also use `PyPSA`'s built in interactive `n.plot.explore()` function to explore the hydrogen reference grid. \n",
    "\n",
    "As we can see, the spatial resolution of the H2 reference grid is different to the electricity reference grid."
   ]
  },
  {
   "cell_type": "code",
   "execution_count": null,
   "metadata": {},
   "outputs": [],
   "source": [
    "# create a copy of the network which only includes electricity\n",
    "n_h2_grid = n.copy()\n",
    "n_h2_grid.remove(\"Bus\", n_h2_grid.buses.query(\"carrier != 'H2'\").index)\n",
    "n_h2_grid.remove(\"Link\", n_h2_grid.links.query(\"p_nom == 0\").index)\n",
    "\n",
    "# explore the reference grid\n",
    "n_h2_grid.plot.explore()"
   ]
  },
  {
   "cell_type": "markdown",
   "metadata": {},
   "source": [
    "We can also plot the hydrogen grid by utilizing another handy plotting function:"
   ]
  },
  {
   "cell_type": "code",
   "execution_count": null,
   "metadata": {},
   "outputs": [],
   "source": [
    "def plot_h2_reference_grid(\n",
    "    n,\n",
    "    proj,\n",
    "    lw_factor=4e3,\n",
    "    figsize=(12, 12),\n",
    "    color_h2_pipe=\"#499a9c\",\n",
    "    color_h2_node=\"#ff29d9\",\n",
    "):\n",
    "    n = n.copy()\n",
    "\n",
    "    n.links.drop(\n",
    "        n.links.index[~n.links.carrier.str.contains(\"H2 pipeline\")], inplace=True\n",
    "    )\n",
    "    h2_pipes = n.links[n.links.carrier == \"H2 pipeline\"].p_nom\n",
    "\n",
    "    link_widths_total = h2_pipes / lw_factor\n",
    "    if link_widths_total.notnull().empty:\n",
    "        print(\"No base H2 pipeline capacities to plot.\")\n",
    "        return\n",
    "    link_widths_total = link_widths_total.reindex(n.links.index).fillna(0.0)\n",
    "\n",
    "    n.buses.drop(n.buses.index[~n.buses.carrier.str.contains(\"H2\")], inplace=True)\n",
    "\n",
    "    fig, ax = plt.subplots(figsize=figsize, subplot_kw={\"projection\": proj})\n",
    "\n",
    "    n.plot.map(\n",
    "        geomap=True,\n",
    "        bus_sizes=0.1,\n",
    "        bus_colors=color_h2_node,\n",
    "        link_colors=color_h2_pipe,\n",
    "        link_widths=link_widths_total,\n",
    "        branch_components=[\"Link\"],\n",
    "        ax=ax,\n",
    "    )\n",
    "\n",
    "    sizes = [30, 10]\n",
    "    labels = [f\"{s} GW\" for s in sizes]\n",
    "    scale = 1e3 / 4e3\n",
    "    sizes = [s * scale for s in sizes]\n",
    "\n",
    "    legend_kw = dict(\n",
    "        loc=\"upper left\",\n",
    "        bbox_to_anchor=(0.005, 1.1),\n",
    "        frameon=False,\n",
    "        ncol=2,\n",
    "        labelspacing=0.8,\n",
    "        handletextpad=1,\n",
    "    )\n",
    "\n",
    "    add_legend_lines(\n",
    "        ax,\n",
    "        sizes,\n",
    "        labels,\n",
    "        patch_kw=dict(color=\"lightgrey\"),\n",
    "        legend_kw=legend_kw,\n",
    "    )\n",
    "\n",
    "    legend_kw = dict(\n",
    "        loc=\"upper left\",\n",
    "        bbox_to_anchor=(0.15, 1.13),\n",
    "        labelspacing=0.8,\n",
    "        handletextpad=0,\n",
    "        frameon=False,\n",
    "    )\n",
    "\n",
    "    add_legend_circles(\n",
    "        ax,\n",
    "        sizes=[0.2],\n",
    "        labels=[\"H2 Node\"],\n",
    "        srid=n.srid,\n",
    "        patch_kw=dict(facecolor=color_h2_node),\n",
    "        legend_kw=legend_kw,\n",
    "    )\n",
    "\n",
    "    legend_kw = dict(\n",
    "        loc=\"upper left\",\n",
    "        bbox_to_anchor=(0, 1.13),\n",
    "        ncol=1,\n",
    "        frameon=False,\n",
    "    )\n",
    "\n",
    "    add_legend_patches(ax, [color_h2_pipe], [\"H2 Pipeline\"], legend_kw=legend_kw)\n",
    "\n",
    "    ax.set_facecolor(\"white\")\n",
    "\n",
    "    plt.show()"
   ]
  },
  {
   "cell_type": "code",
   "execution_count": null,
   "metadata": {},
   "outputs": [],
   "source": [
    "plot_h2_reference_grid(n_h2_grid, proj)"
   ]
  },
  {
   "cell_type": "markdown",
   "metadata": {},
   "source": [
    "You've just created the hydrogen reference grid published in the [Scenarios Methodology report from TYNDP 2024](https://2024.entsos-tyndp-scenarios.eu/download/)!"
   ]
  },
  {
   "cell_type": "markdown",
   "metadata": {},
   "source": [
    "# Extracting insights & Visualization"
   ]
  },
  {
   "cell_type": "markdown",
   "metadata": {},
   "source": [
    "## Import the solved model"
   ]
  },
  {
   "cell_type": "code",
   "execution_count": null,
   "metadata": {},
   "outputs": [],
   "source": [
    "n = pypsa.Network(\"post-network.nc\")"
   ]
  },
  {
   "cell_type": "markdown",
   "metadata": {},
   "source": [
    "## Extract insights from the network using `PyPSA.statistics`"
   ]
  },
  {
   "cell_type": "markdown",
   "metadata": {},
   "source": [
    "Let's investigate the results from the solved model. For convenience, let's save the accessor in a variable.\n",
    "\n",
    "The full API documentation is available in [pypsa documentation](https://pypsa.readthedocs.io/en/latest/api/statistics.html)."
   ]
  },
  {
   "cell_type": "code",
   "execution_count": null,
   "metadata": {},
   "outputs": [],
   "source": [
    "s = n.statistics"
   ]
  },
  {
   "cell_type": "markdown",
   "metadata": {},
   "source": [
    "You can easily have an comprehensive overview of the system level results."
   ]
  },
  {
   "cell_type": "code",
   "execution_count": null,
   "metadata": {},
   "outputs": [],
   "source": [
    "s().head()"
   ]
  },
  {
   "cell_type": "markdown",
   "metadata": {},
   "source": [
    "Let's have a look to optimal renewable capacities."
   ]
  },
  {
   "cell_type": "code",
   "execution_count": null,
   "metadata": {},
   "outputs": [],
   "source": [
    "s.optimal_capacity(\n",
    "    bus_carrier=[\"AC\", \"low voltage\"],\n",
    "    comps=\"Generator\",\n",
    ").div(\n",
    "    1e3\n",
    ")  # GW"
   ]
  },
  {
   "cell_type": "markdown",
   "metadata": {},
   "source": [
    "You can get it as fancy as you want!"
   ]
  },
  {
   "cell_type": "code",
   "execution_count": null,
   "metadata": {},
   "outputs": [],
   "source": [
    "(\n",
    "    s.optimal_capacity(\n",
    "        bus_carrier=[\"AC\", \"low voltage\"],\n",
    "        groupby=[\"location\", \"carrier\"],\n",
    "        comps=\"Generator\",\n",
    "    )\n",
    "    .div(1e3)  # GW\n",
    "    .to_frame(name=\"p_nom_opt\")\n",
    "    .pivot_table(index=\"location\", columns=\"carrier\", values=\"p_nom_opt\")\n",
    "    .fillna(0)\n",
    "    .assign(Total=lambda df: df.sum(axis=1))\n",
    "    .sort_values(by=\"Total\", ascending=False)\n",
    "    .round(2)\n",
    ").head()"
   ]
  },
  {
   "cell_type": "code",
   "execution_count": null,
   "metadata": {},
   "outputs": [],
   "source": [
    "# Task: try to fine tune this query to your needs"
   ]
  },
  {
   "cell_type": "markdown",
   "metadata": {},
   "source": [
    "We can also easily look into the energy balance for a specific carrier by Node. \n",
    "\n",
    "So, let's investigate the Hydrogen balance at the Z1 and Z2 nodes of Germany (DE):"
   ]
  },
  {
   "cell_type": "code",
   "execution_count": null,
   "metadata": {},
   "outputs": [],
   "source": [
    "(\n",
    "    s.energy_balance(\n",
    "        carrier=\"H2\",\n",
    "        groupby=[\"bus\", \"country\", \"carrier\"],\n",
    "    )\n",
    "    .div(1e6)  # TWh\n",
    "    .to_frame(name=\"Balance [TWh]\")\n",
    "    .query(\"bus.str.contains('DE H2')\")\n",
    "    .round(2)\n",
    ")"
   ]
  },
  {
   "cell_type": "markdown",
   "metadata": {},
   "source": [
    "... or look at renewable curtailment in the system:"
   ]
  },
  {
   "cell_type": "code",
   "execution_count": null,
   "metadata": {},
   "outputs": [],
   "source": [
    "(\n",
    "    s.curtailment(\n",
    "        bus_carrier=[\"AC\", \"low voltage\"],\n",
    "        groupby=[\"location\", \"carrier\"],\n",
    "    )\n",
    "    .div(1e6)  # TWh\n",
    "    .to_frame(name=\"p_nom_opt\")\n",
    "    .pivot_table(index=\"location\", columns=\"carrier\", values=\"p_nom_opt\")\n",
    "    .fillna(0)\n",
    "    .assign(Total=lambda df: df.sum(axis=1))\n",
    "    .sort_values(by=\"Total\", ascending=False)\n",
    "    .round(2)\n",
    ").head()"
   ]
  },
  {
   "cell_type": "code",
   "execution_count": null,
   "metadata": {},
   "outputs": [],
   "source": [
    "# Task: explore the documentation and try this out yourself"
   ]
  },
  {
   "cell_type": "markdown",
   "metadata": {},
   "source": [
    "## Visualizing results using `PyPSA.statistics`"
   ]
  },
  {
   "cell_type": "markdown",
   "metadata": {},
   "source": [
    "The `PyPSA.statistics` module can also be used to create some really handy static plotting to investigate the results of a model."
   ]
  },
  {
   "cell_type": "code",
   "execution_count": null,
   "metadata": {},
   "outputs": [],
   "source": [
    "# let's fill missing colors first\n",
    "n.carriers.loc[\"none\", \"color\"] = \"#000000\"\n",
    "n.carriers.loc[\"\", \"color\"] = \"#000000\""
   ]
  },
  {
   "cell_type": "markdown",
   "metadata": {},
   "source": [
    "Let's now plot the optimal renewable capacities that we investigated before."
   ]
  },
  {
   "cell_type": "code",
   "execution_count": null,
   "metadata": {},
   "outputs": [],
   "source": [
    "s.optimal_capacity.plot.bar(\n",
    "    bus_carrier=\"AC\",\n",
    "    query=\"value>1e3\",\n",
    "    height=6,\n",
    ");"
   ]
  },
  {
   "cell_type": "markdown",
   "metadata": {},
   "source": [
    "You can also have details for specific countries."
   ]
  },
  {
   "cell_type": "code",
   "execution_count": null,
   "metadata": {},
   "outputs": [],
   "source": [
    "s.optimal_capacity.plot.bar(\n",
    "    bus_carrier=\"AC\",\n",
    "    query=\"value>1e3 and country in ['DE', 'FR']\",\n",
    "    height=6,\n",
    "    facet_col=\"country\",\n",
    ");"
   ]
  },
  {
   "cell_type": "markdown",
   "metadata": {},
   "source": [
    "You can have a closer look to the wind production"
   ]
  },
  {
   "cell_type": "code",
   "execution_count": null,
   "metadata": {},
   "outputs": [],
   "source": [
    "s.energy_balance.plot.line(\n",
    "    facet_row=\"bus_carrier\",\n",
    "    y=\"value\",\n",
    "    x=\"snapshot\",\n",
    "    carrier=\"wind\",\n",
    "    nice_names=False,\n",
    "    color=\"carrier\",\n",
    "    aspect=5.0,\n",
    ");"
   ]
  },
  {
   "cell_type": "markdown",
   "metadata": {},
   "source": [
    "... or to the dispatch for specific countries."
   ]
  },
  {
   "cell_type": "code",
   "execution_count": null,
   "metadata": {},
   "outputs": [],
   "source": [
    "s.energy_balance.plot.area(\n",
    "    bus_carrier=[\"AC\"],\n",
    "    y=\"value\",\n",
    "    x=\"snapshot\",\n",
    "    color=\"carrier\",\n",
    "    stacked=True,\n",
    "    facet_row=\"country\",\n",
    "    query=\"country in ['DE', 'FR'] and snapshot < '2013-03'\",\n",
    "    aspect=5,\n",
    ");"
   ]
  },
  {
   "cell_type": "markdown",
   "metadata": {},
   "source": [
    "You can also explore H2 results."
   ]
  },
  {
   "cell_type": "code",
   "execution_count": null,
   "metadata": {},
   "outputs": [],
   "source": [
    "s.energy_balance.plot.bar(\n",
    "    bus_carrier=[\"H2\"],\n",
    "    y=\"carrier\",\n",
    "    x=\"value\",\n",
    "    color=\"carrier\",\n",
    "    facet_col=\"country\",\n",
    "    height=4,\n",
    "    aspect=1,\n",
    "    query=\"country in ['DE', 'FR']\",\n",
    ");"
   ]
  },
  {
   "cell_type": "markdown",
   "metadata": {},
   "source": [
    "You can also explore the correlation between renewable production and hydrogen."
   ]
  },
  {
   "cell_type": "code",
   "execution_count": null,
   "metadata": {},
   "outputs": [],
   "source": [
    "s.energy_balance.plot.area(\n",
    "    bus_carrier=[\"AC\", \"H2\"],\n",
    "    y=\"value\",\n",
    "    x=\"snapshot\",\n",
    "    color=\"carrier\",\n",
    "    stacked=True,\n",
    "    facet_row=\"bus_carrier\",\n",
    "    sharex=False,\n",
    "    sharey=False,\n",
    "    query=\"snapshot < '2013-03'\",\n",
    "    aspect=5,\n",
    ");"
   ]
  },
  {
   "cell_type": "markdown",
   "metadata": {},
   "source": [
    "There is also the possibility to explore maps."
   ]
  },
  {
   "cell_type": "code",
   "execution_count": null,
   "metadata": {},
   "outputs": [],
   "source": [
    "subplot_kw = {\"projection\": proj}\n",
    "fig, ax = plt.subplots(figsize=(12, 12), subplot_kw=subplot_kw)\n",
    "s.energy_balance.plot.map(\n",
    "    bus_carrier=\"H2\",\n",
    "    ax=ax,\n",
    "    bus_area_fraction=0.007,\n",
    "    flow_area_fraction=0.004,\n",
    "    legend_circles_kw=dict(\n",
    "        frameon=False,\n",
    "        labelspacing=0.8,\n",
    "        handletextpad=1.5,\n",
    "    ),\n",
    "    legend_arrows_kw=dict(\n",
    "        frameon=False,\n",
    "        labelspacing=0.8,\n",
    "        handletextpad=1.5,\n",
    "    ),\n",
    ");"
   ]
  },
  {
   "cell_type": "markdown",
   "metadata": {},
   "source": [
    "But, to get something neat, you might need to code it yourself. Indeed, with some tweaking and construction, we can use PyPSA's plotting to create some really cool visualizations of the resulting net hydrogen flows in the network."
   ]
  },
  {
   "cell_type": "code",
   "execution_count": null,
   "metadata": {},
   "outputs": [],
   "source": [
    "def plot_net_H2_flows(n, regions, countries=[], figsize=(12, 12)):\n",
    "    network = n.copy()\n",
    "    if \"H2 pipeline\" not in n.links.carrier.unique():\n",
    "        return\n",
    "    if len(countries) == 0:\n",
    "        countries = regions.index.values\n",
    "\n",
    "    linewidth_factor = 5e2\n",
    "    # MW below which not drawn\n",
    "    line_lower_threshold = 1e2\n",
    "    min_energy = 0\n",
    "    lim = 50\n",
    "    link_color = \"#499a9c\"\n",
    "    flow_factor = 100\n",
    "\n",
    "    # get H2 energy balance per node\n",
    "    carrier = \"H2\"\n",
    "    h2_energy_balance = network.statistics.energy_balance(\n",
    "        bus_carrier=\"H2\", comps=\"Link\", groupby=[\"country\", \"carrier\"]\n",
    "    ).to_frame()\n",
    "\n",
    "    to_drop = [\"H2 pipeline\"]\n",
    "    # drop pipelines and storages from energy balance\n",
    "    h2_energy_balance.drop(h2_energy_balance.loc[:, to_drop, :].index, inplace=True)\n",
    "    # filter for countries\n",
    "    h2_energy_balance = h2_energy_balance.loc[countries, :, :]\n",
    "    regions = regions.loc[countries]\n",
    "\n",
    "    regions[\"H2\"] = (\n",
    "        h2_energy_balance.groupby(level=0).sum()\n",
    "        # .div(1e6)  # TWh\n",
    "        .mul(-1)  # so demand is positive and supply is negative\n",
    "    )\n",
    "\n",
    "    # Drop non-hydrogen buses so they don't clutter the plot\n",
    "    # And filter for countries\n",
    "    network.buses.drop(network.buses.query(\"carrier != 'H2'\").index, inplace=True)\n",
    "    network.buses.drop(\n",
    "        network.buses.query(\"country not in @countries\").index, inplace=True\n",
    "    )\n",
    "\n",
    "    # drop all links which are not H2 pipelines\n",
    "    network.links.drop(\n",
    "        network.links.index[~network.links.carrier.str.contains(\"H2 pipeline\")],\n",
    "        inplace=True,\n",
    "    )\n",
    "\n",
    "    network.links[\"flow\"] = network.snapshot_weightings.generators @ network.links_t.p0\n",
    "\n",
    "    positive_order = network.links.bus0 < network.links.bus1\n",
    "    swap_buses = {\"bus0\": \"bus1\", \"bus1\": \"bus0\"}\n",
    "    network.links.loc[~positive_order] = network.links.rename(columns=swap_buses)\n",
    "    network.links.loc[~positive_order, \"flow\"] = -network.links.loc[\n",
    "        ~positive_order, \"flow\"\n",
    "    ]\n",
    "    network.links.index = network.links.apply(\n",
    "        lambda x: f\"H2 pipeline {x.bus0} -> {x.bus1}\", axis=1\n",
    "    )\n",
    "    network.links = network.links.groupby(network.links.index).agg(\n",
    "        dict(flow=\"sum\", bus0=\"first\", bus1=\"first\", carrier=\"first\", p_nom_opt=\"sum\")\n",
    "    )\n",
    "    network.links.flow = network.links.flow.where(network.links.flow.abs() > min_energy)\n",
    "\n",
    "    # drop links not connecting countries in country list\n",
    "    network.links.drop(\n",
    "        network.links.loc[\n",
    "            (\n",
    "                (~network.links.bus0.str.contains(\"|\".join(countries)))\n",
    "                | (~network.links.bus1.str.contains(\"|\".join(countries)))\n",
    "            )\n",
    "        ].index,\n",
    "        inplace=True,\n",
    "    )\n",
    "\n",
    "    proj = ccrs.EqualEarth()\n",
    "    coords = regions.get_coordinates()\n",
    "    map_opts[\"boundaries\"] = [\n",
    "        x for y in zip(coords.min().values, coords.max().values) for x in y\n",
    "    ]\n",
    "    regions = regions.to_crs(proj.proj4_init)\n",
    "\n",
    "    fig, ax = plt.subplots(figsize=figsize, subplot_kw={\"projection\": proj})\n",
    "\n",
    "    link_widths_flows = network.links.flow.div(linewidth_factor).fillna(0)\n",
    "    # cap link width\n",
    "    link_widths_flows = link_widths_flows.where(\n",
    "        (link_widths_flows.abs() < 1) | (link_widths_flows < 0), 1\n",
    "    ).where(  # 1 where not between 0 and 1 or negative\n",
    "        (link_widths_flows.abs() < 1) | (link_widths_flows > 0), -1\n",
    "    )  # -1 where not between 0 and -1 or positive\n",
    "\n",
    "    network.plot.map(\n",
    "        geomap=True,\n",
    "        bus_sizes=0,\n",
    "        link_colors=link_color,\n",
    "        link_widths=link_widths_flows,\n",
    "        branch_components=[\"Link\"],\n",
    "        ax=ax,\n",
    "        flow=pd.concat({\"Link\": link_widths_flows * flow_factor}),\n",
    "        **map_opts,\n",
    "    )\n",
    "\n",
    "    regions.plot(\n",
    "        ax=ax,\n",
    "        column=\"H2\",\n",
    "        cmap=\"BrBG\",\n",
    "        linewidths=0,\n",
    "        legend=True,\n",
    "        vmax=lim,\n",
    "        vmin=-lim,\n",
    "        legend_kwds={\n",
    "            \"label\": \"Hydrogen balance [MWh] \\n + Supply, - Demand\",\n",
    "            \"shrink\": 0.7,\n",
    "            \"extend\": \"max\",\n",
    "        },\n",
    "    )\n",
    "\n",
    "    legend_kw = dict(\n",
    "        loc=\"upper left\",\n",
    "        bbox_to_anchor=(-0.1, 1.13),\n",
    "        frameon=False,\n",
    "        labelspacing=0.8,\n",
    "        handletextpad=1,\n",
    "    )\n",
    "\n",
    "    sizes = [2, 1, 0.5]\n",
    "    sizes_str = {2: \" over\", 1: \"\", 0.5: \"\"}\n",
    "    labels = [f\"Net H2 flows{sizes_str[s]} {s} GWh\" for s in sizes]\n",
    "    scale = 1e3 / linewidth_factor\n",
    "    sizes = [s * scale for s in sizes]\n",
    "    add_legend_lines(\n",
    "        ax,\n",
    "        sizes,\n",
    "        labels,\n",
    "        patch_kw=dict(color=link_color),\n",
    "        legend_kw=legend_kw,\n",
    "    )\n",
    "\n",
    "    ax.set_facecolor(\"white\")\n",
    "\n",
    "\n",
    "map_opts = {\n",
    "    \"boundaries\": [-11, 30, 34, 71],\n",
    "    \"geomap_colors\": {\n",
    "        \"ocean\": \"white\",\n",
    "        \"land\": \"white\",\n",
    "    },\n",
    "}"
   ]
  },
  {
   "cell_type": "code",
   "execution_count": null,
   "metadata": {},
   "outputs": [],
   "source": [
    "h2_regions = bz.dissolve(by=\"country\")\n",
    "plot_net_H2_flows(n, h2_regions)"
   ]
  },
  {
   "cell_type": "markdown",
   "metadata": {},
   "source": [
    "Or, if you want to zoom on specific countries."
   ]
  },
  {
   "cell_type": "code",
   "execution_count": null,
   "metadata": {},
   "outputs": [],
   "source": [
    "plot_net_H2_flows(n, h2_regions, countries=[\"DE\", \"FR\", \"CH\", \"AT\"])"
   ]
  }
 ],
 "metadata": {
  "interpreter": {
   "hash": "514b1affaf24983c7bcf718ddf9a4200ba4797d896bd13e688f3348b0b6c22b9"
  },
  "kernelspec": {
   "display_name": "",
   "language": "python",
   "name": ""
  },
  "language_info": {
   "codemirror_mode": {
    "name": "ipython",
    "version": 3
   },
   "file_extension": ".py",
   "mimetype": "text/x-python",
   "name": "python",
   "nbconvert_exporter": "python",
   "pygments_lexer": "ipython3",
   "version": "3.12.9"
  }
 },
 "nbformat": 4,
 "nbformat_minor": 4
}
