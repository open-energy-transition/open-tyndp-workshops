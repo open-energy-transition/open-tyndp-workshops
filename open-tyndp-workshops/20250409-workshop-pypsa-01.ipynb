{
 "cells": [
  {
   "cell_type": "markdown",
   "metadata": {},
   "source": [
    "# Workshop 1: Introduction to `PyPSA` & TYNDP reference grids"
   ]
  },
  {
   "cell_type": "markdown",
   "metadata": {},
   "source": [
    "<img src=\"https://github.com/fneum/data-science-for-esm/raw/main/data-science-for-esm/pypsa-logo.png\" width=\"300px\" />\n",
    "\n",
    "PyPSA stands for **Python for Power System Analysis**.\n",
    "\n",
    "PyPSA is an open source Python package for simulating and optimising modern energy systems that include features such as\n",
    "\n",
    "- conventional generators with unit commitment (ramp-up, ramp-down, start-up, shut-down),\n",
    "- time-varying wind and solar generation,\n",
    "- energy storage with efficiency losses and inflow/spillage for hydroelectricity\n",
    "- coupling to other energy sectors (electricity, transport, heat, industry),\n",
    "- conversion between energy carriers (e.g. electricity to hydrogen),\n",
    "- transmission networks (AC, DC, other fuels)\n",
    "\n",
    "PyPSA can be used for a variety of problem types (e.g. electricity market modelling, long-term investment planning, transmission network expansion planning), and is designed to scale well with large networks and long time series.\n",
    "\n",
    "Compared to building power system by hand in `linopy`, PyPSA does the following things for you:\n",
    "\n",
    "- manage data inputs\n",
    "- build optimisation problem\n",
    "- communicate with the solver\n",
    "- retrieve and process optimisation results\n",
    "- manage data outputs\n",
    "\n",
    "### Dependencies\n",
    "\n",
    "- `pandas` for storing data about network components and time series\n",
    "- `numpy` and `scipy` for linear algebra and sparse matrix calculations\n",
    "- `matplotlib` and `cartopy` for plotting on a map\n",
    "- `networkx` for network calculations\n",
    "- `linopy` for handling optimisation problems"
   ]
  },
  {
   "cell_type": "markdown",
   "metadata": {},
   "source": [
    ":::{note}\n",
    "Documentation for this package is available at https://pypsa.readthedocs.io.\n",
    ":::"
   ]
  },
  {
   "cell_type": "markdown",
   "metadata": {},
   "source": [
    ":::{note}\n",
    "If you have not yet set up Python on your computer, you can execute this tutorial in your browser via [Google Colab](https://colab.research.google.com/). Click on the rocket in the top right corner and launch \"Colab\". If that doesn't work download the `.ipynb` file and import it in [Google Colab](https://colab.research.google.com/).\n",
    "\n",
    "Then install the following packages by executing the following command in a Jupyter cell at the top of the notebook.\n",
    "\n",
    "```sh\n",
    "!pip install pypsa atlite pandas geopandas xarray matplotlib hvplot geoviews plotly highspy holoviews\n",
    "%env HV_DOC_HTML=true\n",
    "```\n",
    ":::"
   ]
  },
  {
   "cell_type": "code",
   "execution_count": null,
   "metadata": {},
   "outputs": [],
   "source": [
    "# To run this notebook in Google Colab, uncomment the following line:\n",
    "# !pip install pypsa atlite pandas geopandas xarray matplotlib hvplot geoviews plotly highspy holoviews\n",
    "# %env HV_DOC_HTML=true"
   ]
  },
  {
   "cell_type": "markdown",
   "metadata": {},
   "source": [
    "## Basic Structure"
   ]
  },
  {
   "cell_type": "markdown",
   "metadata": {},
   "source": [
    "| Component | Description |\n",
    "| --- | --- |\n",
    "| [Network](https://pypsa.readthedocs.io/en/latest/components.html#network) | Container for all components. |\n",
    "| [Bus](https://pypsa.readthedocs.io/en/latest/components.html#bus) | Node where components attach. |\n",
    "| [Carrier](https://pypsa.readthedocs.io/en/latest/components.html#carrier) | Energy carrier or technology (e.g. electricity, hydrogen, gas, coal, oil, biomass, on-/offshore wind, solar). Can track properties such as specific carbon dioxide emissions or nice names and colors for plots. |\n",
    "| [Load](https://pypsa.readthedocs.io/en/latest/components.html#load) | Energy consumer (e.g. electricity demand). |\n",
    "| [Generator](https://pypsa.readthedocs.io/en/latest/components.html#generator) | Generator (e.g. power plant, wind turbine, PV panel). |\n",
    "| [Line](https://pypsa.readthedocs.io/en/latest/components.html#line) | Power distribution and transmission lines (overhead and cables). |\n",
    "| [Link](https://pypsa.readthedocs.io/en/latest/components.html#link) | Links connect two buses with controllable energy flow, direction-control and losses. They can be used to model: <ul><li>HVDC links</li><li>HVAC lines (neglecting KVL, only net transfer capacities (NTCs))</li><li>conversion between carriers (e.g. electricity to hydrogen in electrolysis)</li></ul> |\n",
    "| [StorageUnit](https://pypsa.readthedocs.io/en/latest/components.html#storage-unit) | Storage with fixed nominal energy-to-power ratio. |\n",
    "| [GlobalConstraint](https://pypsa.readthedocs.io/en/latest/components.html#global-constraints) | Constraints affecting many components at once, such as emission limits. |\n",
    "| [Store](https://pypsa.readthedocs.io/en/latest/components.html#store) | Storage with separately extendable energy capacity. |\n",
    "|  | **not used in this course** |\n",
    "| [LineType](https://pypsa.readthedocs.io/en/latest/components.html#line-types) | Standard line types. |\n",
    "| [Transformer](https://pypsa.readthedocs.io/en/latest/components.html#transformer) | 2-winding transformer. |\n",
    "| [TransformerType](https://pypsa.readthedocs.io/en/latest/components.html#transformer-types) | Standard types of 2-winding transformer. |\n",
    "| [ShuntImpedance](https://pypsa.readthedocs.io/en/latest/components.html#shunt-impedance) | Shunt. |\n",
    "\n",
    "\n",
    ":::{note}\n",
    "Links in the table lead to documentation for each component.\n",
    ":::\n",
    "\n",
    "<img src=\"https://pypsa.readthedocs.io/en/latest/_images/buses.png\" width=\"500px\" />\n"
   ]
  },
  {
   "cell_type": "markdown",
   "metadata": {},
   "source": [
    ":::{warning}\n",
    "Per unit values of voltage and impedance are used internally for network calculations. It is assumed internally that the base power is **1 MW**.\n",
    ":::\n",
    "\n",
    "## From structured data to optimisation\n",
    "\n",
    "The design principle of PyPSA is that basically each component is associated with a set of variables and constraints that will be added to the optimisation model based on the input data stored for the components.\n",
    "\n",
    "For an *hourly* electricity market simulation, PyPSA will solve an optimisation problem that looks like this\n",
    "\n",
    "\\begin{equation}\n",
    "\\min_{g_{i,s,t}; f_{\\ell,t}; g_{i,r,t,\\text{charge}}; g_{i,r,t,\\text{discharge}}; e_{i,r,t}} \\sum_s o_{s} g_{i,s,t}\n",
    "\\end{equation}\n",
    "such that\n",
    "\\begin{align}\n",
    "0 & \\leq g_{i,s,t} \\leq \\hat{g}_{i,s,t} G_{i,s}  & \\text{generation limits : generator} \\\\\n",
    "-F_\\ell &\\leq f_{\\ell,t} \\leq F_\\ell & \\text{transmission limits : line}  \\\\\n",
    "d_{i,t} &= \\sum_s g_{i,s,t} + \\sum_r g_{i,r,t,\\text{discharge}} - \\sum_r g_{i,r,t,\\text{charge}} - \\sum_\\ell K_{i\\ell} f_{\\ell,t} & \\text{KCL : bus} \\\\\n",
    " 0 &=\\sum_\\ell C_{\\ell c} x_\\ell f_{\\ell,t} & \\text{KVL : cycles} \\\\\n",
    "0 & \\leq g_{i,r,t,\\text{discharge}} \\leq G_{i,r,\\text{discharge}}& \\text{discharge limits : storage unit} \\\\\n",
    "    0 & \\leq g_{i,r,t,\\text{charge}} \\leq G_{i,r,\\text{charge}} & \\text{charge limits : storage unit} \\\\\n",
    "    0 & \\leq e_{i,r,t} \\leq E_{i,r} & \\text{energy limits : storage unit} \\\\\n",
    "    e_{i,r,t} &= \\eta^0_{i,r,t} e_{i,r,t-1} + \\eta^1_{i,r,t}g_{i,r,t,\\text{charge}} -  \\frac{1}{\\eta^2_{i,r,t}} g_{i,r,t,\\text{discharge}} & \\text{consistency : storage unit} \\\\\n",
    "    e_{i,r,0} & = e_{i,r,|T|-1}  & \\text{cyclicity : storage unit}\n",
    "\\end{align}\n",
    "\n",
    "**Decision variables:**\n",
    "\n",
    "- $g_{i,s,t}$ is the generator dispatch at bus $i$, technology $s$, time step $t$,\n",
    "- $f_{\\ell,t}$ is the power flow in line $\\ell$,\n",
    "- $g_{i,r,t,\\text{dis-/charge}}$ denotes the charge and discharge of storage unit $r$ at bus $i$ and time step $t$,\n",
    "- $e_{i,r,t}$ is the state of charge of storage $r$ at bus $i$ and time step $t$.\n",
    "\n",
    "**Parameters:**\n",
    "\n",
    "- $o_{i,s}$ is the marginal generation cost of technology $s$ at bus $i$,\n",
    "- $x_\\ell$ is the reactance of transmission line $\\ell$,\n",
    "- $K_{i\\ell}$ is the incidence matrix,\n",
    "- $C_{\\ell c}$ is the cycle matrix,\n",
    "- $G_{i,s}$ is the nominal capacity of the generator of technology $s$ at bus $i$,\n",
    "- $F_{\\ell}$ is the rating of the transmission line $\\ell$,\n",
    "- $E_{i,r}$ is the energy capacity of storage $r$ at bus $i$,\n",
    "- $\\eta^{0/1/2}_{i,r,t}$ denote the standing (0), charging (1), and discharging (2) efficiencies.\n",
    "\n",
    ":::{note}\n",
    "For a full reference to the optimisation problem description, see https://pypsa.readthedocs.io/en/latest/optimal_power_flow.html\n",
    ":::"
   ]
  },
  {
   "cell_type": "markdown",
   "metadata": {},
   "source": [
    "# Using the PyPSA framework: a simple example"
   ]
  },
  {
   "cell_type": "code",
   "execution_count": null,
   "metadata": {},
   "outputs": [],
   "source": [
    "# By convention, PyPSA is imported without an alias:\n",
    "import pypsa\n",
    "\n",
    "# Other dependencies\n",
    "import pandas as pd\n",
    "import geopandas as gpd\n",
    "import matplotlib.pyplot as plt\n",
    "import holoviews as hv\n",
    "import cartopy.crs as ccrs\n",
    "from pypsa.plot.maps.static import (\n",
    "    add_legend_circles,\n",
    "    add_legend_patches,\n",
    "    add_legend_lines,\n",
    ")\n",
    "from pathlib import Path\n",
    "\n",
    "plt.style.use(\"bmh\")"
   ]
  },
  {
   "cell_type": "markdown",
   "metadata": {},
   "source": [
    "### Simple electricity market problem\n",
    "\n",
    "generator 1: \"gas\" -- marginal cost 70 EUR/MWh -- capacity 50 MW\n",
    "\n",
    "generator 2: \"nuclear\" -- marginal cost 10 EUR/MWh -- capacity 100 MW\n",
    "\n",
    "load: \"Consumer\" -- demand 120 MW\n",
    "\n",
    "single time step (\"now\")\n",
    "\n",
    "single node (\"Springfield\")\n",
    "\n",
    "\n",
    "\n",
    "<br><br> <font size=\"2\">*Copyright (c) 2025, Iegor Riepin*</font>"
   ]
  },
  {
   "cell_type": "markdown",
   "metadata": {},
   "source": [
    "### Building a basic network"
   ]
  },
  {
   "cell_type": "code",
   "execution_count": null,
   "metadata": {},
   "outputs": [],
   "source": [
    "# First, we create a network object which serves as the container for all components\n",
    "n = pypsa.Network()"
   ]
  },
  {
   "cell_type": "code",
   "execution_count": null,
   "metadata": {},
   "outputs": [],
   "source": [
    "n"
   ]
  },
  {
   "cell_type": "markdown",
   "metadata": {},
   "source": [
    "The second component we need are buses. **Buses** are the fundamental nodes of the network, to which all other components like loads, generators and transmission lines attach. They enforce energy conservation for all elements feeding in and out of it (i.e. Kirchhoff’s Current Law).\n",
    "\n",
    "Components can be added to the network `n` using the `n.add()` function. It takes the component name as a first argument, the name of the component as a second argument and possibly further parameters as keyword arguments. Let's use this function, to add buses for each country to our network:"
   ]
  },
  {
   "cell_type": "code",
   "execution_count": null,
   "metadata": {},
   "outputs": [],
   "source": [
    "n.add(\"Bus\", \"Springfield\", v_nom=380, carrier=\"AC\")"
   ]
  },
  {
   "cell_type": "markdown",
   "metadata": {},
   "source": [
    "For each class of components, the data describing the components is stored in a `pandas.DataFrame`. For example, all static data for buses is stored in `n.buses`"
   ]
  },
  {
   "cell_type": "code",
   "execution_count": null,
   "metadata": {},
   "outputs": [],
   "source": [
    "n.buses"
   ]
  },
  {
   "cell_type": "markdown",
   "metadata": {},
   "source": [
    "You see there are many more attributes than we specified while adding the buses; many of them are filled with default parameters which were added. You can look up the field description, defaults and status (required input, optional input, output) for buses here https://pypsa.readthedocs.io/en/latest/components.html#bus, and analogous for all other components.\n",
    "\n",
    "You can also explore attributes yourself."
   ]
  },
  {
   "cell_type": "code",
   "execution_count": null,
   "metadata": {},
   "outputs": [],
   "source": [
    "n.component_attrs[\"Bus\"]"
   ]
  },
  {
   "cell_type": "markdown",
   "metadata": {},
   "source": [
    "The `n.add()` function lets you add any component to the network object `n`:"
   ]
  },
  {
   "cell_type": "code",
   "execution_count": null,
   "metadata": {},
   "outputs": [],
   "source": [
    "n.add(\n",
    "    \"Generator\",\n",
    "    \"gas\",\n",
    "    bus=\"Springfield\",\n",
    "    p_nom_extendable=False,\n",
    "    marginal_cost=70,  # €/MWh\n",
    "    p_nom=50,  # MW\n",
    ")\n",
    "n.add(\n",
    "    \"Generator\",\n",
    "    \"nuclear\",\n",
    "    bus=\"Springfield\",\n",
    "    p_nom_extendable=False,\n",
    "    marginal_cost=10,  # €/MWh\n",
    "    p_nom=100,  # MW\n",
    ")"
   ]
  },
  {
   "cell_type": "markdown",
   "metadata": {},
   "source": [
    "The method `n.add()` also allows you to add multiple components at once. For instance, multiple **carriers** for the fuels with information on specific carbon dioxide emissions, a nice name, and colors for plotting. For this, the function takes the component name as the first argument and then a list of component names and then optional arguments for the parameters. Here, scalar values, lists, dictionary or `pandas.Series` are allowed. The latter two needs keys or indices with the component names."
   ]
  },
  {
   "cell_type": "markdown",
   "metadata": {},
   "source": [
    "As a result, the `n.generators` DataFrame looks like this:"
   ]
  },
  {
   "cell_type": "code",
   "execution_count": null,
   "metadata": {},
   "outputs": [],
   "source": [
    "n.generators"
   ]
  },
  {
   "cell_type": "markdown",
   "metadata": {},
   "source": [
    "Next, we're going to add the electricity demand.\n",
    "\n",
    "A positive value for `p_set` means consumption of power from the bus."
   ]
  },
  {
   "cell_type": "code",
   "execution_count": null,
   "metadata": {},
   "outputs": [],
   "source": [
    "n.add(\n",
    "    \"Load\",\n",
    "    \"Small town\",\n",
    "    bus=\"Springfield\",\n",
    "    p_set=120,  # MW\n",
    ")"
   ]
  },
  {
   "cell_type": "code",
   "execution_count": null,
   "metadata": {},
   "outputs": [],
   "source": [
    "n.loads"
   ]
  },
  {
   "cell_type": "markdown",
   "metadata": {},
   "source": [
    "## Optimisation"
   ]
  },
  {
   "cell_type": "markdown",
   "metadata": {},
   "source": [
    "The design principle of PyPSA is that basically each component is associated with a set of variables and constraints that will be added to the optimisation model based on the input data stored for the components. \n",
    "\n",
    "For this dispatch problem, PyPSA will solve an optimisation problem that looks like this\n",
    "\n",
    "\\begin{equation}\n",
    "\\min_{g_{s,t};} \\sum_{t,s} o_{s} g_{s,t}\n",
    "\\end{equation}\n",
    "such that\n",
    "\\begin{align}\n",
    "0 & \\leq g_{s,t} \\leq G_{s}  & \\text{generation limits : generator} \\\\\n",
    "D_t &= \\sum_s g_{s,t} & \\text{market clearing : bus} \\\\\n",
    "\\end{align}\n",
    "\n",
    "**Decision variables:**\n",
    "\n",
    "- $g_{s,t}$ is the generator dispatch of technology $s$ at time $t$\n",
    "\n",
    "**Parameters:**\n",
    "\n",
    "- $o_{s}$ is the marginal generation cost of technology $s$\n",
    "- $G_{s}$ is the nominal capacity of technology $s$\n",
    "- $D_t$ is the power demand in Springfiled at time $t$\n"
   ]
  },
  {
   "cell_type": "markdown",
   "metadata": {},
   "source": [
    "With all input data transferred into the PyPSA's data structure (`network`), we can now build and run the resulting optimisation problem. In PyPSA, building, solving and retrieving results from the optimisation model is contained in a single function call `n.optimize()`. This function optimizes dispatch and investment decisions for least cost adhering to the constraints defined in the network.\n",
    "\n",
    "The `n.optimize()` function can take a variety of arguments. The most relevant for the moment is the choice of the solver (e.g. \"highs\" and \"gurobi\"). They need to be installed on your computer, to use them here!"
   ]
  },
  {
   "cell_type": "code",
   "execution_count": null,
   "metadata": {},
   "outputs": [],
   "source": [
    "n.optimize(solver_name=\"highs\")"
   ]
  },
  {
   "cell_type": "markdown",
   "metadata": {},
   "source": [
    "Let's have a look at the results. The network object `n` contains now the objective value and the results for the decision variables."
   ]
  },
  {
   "cell_type": "code",
   "execution_count": null,
   "metadata": {},
   "outputs": [],
   "source": [
    "n.objective"
   ]
  },
  {
   "cell_type": "markdown",
   "metadata": {},
   "source": [
    "Since the power flow and dispatch are generally time-varying quantities, these are stored in a different locations than e.g. `n.generators`. They are stored in `n.generators_t`. Thus, to find out the dispatch of the generators, run"
   ]
  },
  {
   "cell_type": "code",
   "execution_count": null,
   "metadata": {},
   "outputs": [],
   "source": [
    "n.generators_t.p"
   ]
  },
  {
   "cell_type": "code",
   "execution_count": null,
   "metadata": {},
   "outputs": [],
   "source": [
    "n.buses_t.marginal_price"
   ]
  },
  {
   "cell_type": "code",
   "execution_count": null,
   "metadata": {},
   "outputs": [],
   "source": [
    "n.generators_t.mu_upper"
   ]
  },
  {
   "cell_type": "markdown",
   "metadata": {},
   "source": [
    "### Explore pypsa model"
   ]
  },
  {
   "cell_type": "code",
   "execution_count": null,
   "metadata": {},
   "outputs": [],
   "source": [
    "n.model"
   ]
  },
  {
   "cell_type": "code",
   "execution_count": null,
   "metadata": {},
   "outputs": [],
   "source": [
    "n.model.constraints"
   ]
  },
  {
   "cell_type": "code",
   "execution_count": null,
   "metadata": {},
   "outputs": [],
   "source": [
    "n.model.constraints[\"Generator-fix-p-upper\"]"
   ]
  },
  {
   "cell_type": "code",
   "execution_count": null,
   "metadata": {},
   "outputs": [],
   "source": [
    "n.model.constraints[\"Bus-nodal_balance\"]"
   ]
  },
  {
   "cell_type": "code",
   "execution_count": null,
   "metadata": {},
   "outputs": [],
   "source": [
    "n.model.objective"
   ]
  },
  {
   "cell_type": "markdown",
   "metadata": {},
   "source": [
    "# Hands-on Session 1: Building the reference grids\n",
    "\n",
    "The minimal `PyPSA` example illustrates how time-consuming it can be to compose a network by hand. To simplify the work, `PyPSA-Eur` provides a set of scripts that do this for you. It collects and processes open data, composes a network, writes the constraints, solves the operation and capacity expansion problem, collects the result and produces basic summary outputs for analysis.\n",
    "\n",
    "The current `open-tyndp` project aims to adapt `PyPSA-Eur` to the specific needs of the TYNDP process. All the code is openly available in the project repository: [open-tyndp](https://github.com/open-energy-transition/open-tyndp). Currently, the workflow implements the reference grid data for both the electricity and hydrogen networks and solves the network with the default `PyPSA-Eur` demand."
   ]
  },
  {
   "cell_type": "markdown",
   "metadata": {
    "tags": []
   },
   "source": [
    "## Load example data\n",
    "\n",
    "For this workshop, we have prepared networks that can be explored immediately:\n",
    "- `pre-network`: The network prepared by the workflow before solving it.\n",
    "- `post-network`: The solved network.\n",
    "\n",
    "As this workshop focuses on the reference grid, we will also explore the bidding zones data we have created."
   ]
  },
  {
   "cell_type": "code",
   "execution_count": null,
   "metadata": {},
   "outputs": [],
   "source": [
    "from urllib.request import urlretrieve\n",
    "\n",
    "urls = {\n",
    "    \"pre-network.nc\": \"https://drive.google.com/uc?export=download&id=1KizODRyW0UVLKzIY5MZlDZi52zN0tSZc\",\n",
    "    \"post-network.nc\": \"https://drive.google.com/uc?export=download&id=1O9bkv7382rAhnY493aa9SLaXl4AdVfSw\",\n",
    "    \"bidding_zones.geojson\": \"https://drive.google.com/uc?export=download&id=1ZjcNdSiE9OTUetcV1MBV8qn6KIKMYQkM\",\n",
    "}\n",
    "for name, url in urls.items():\n",
    "    print(f\"Loading {name} from Google Drive\")\n",
    "    urlretrieve(url, name)\n",
    "print(\"Done\")"
   ]
  },
  {
   "cell_type": "markdown",
   "metadata": {
    "editable": true,
    "slideshow": {
     "slide_type": ""
    },
    "tags": []
   },
   "source": [
    "First, let's load a pre-composed PyPSA Network:"
   ]
  },
  {
   "cell_type": "code",
   "execution_count": null,
   "metadata": {},
   "outputs": [],
   "source": [
    "n = pypsa.Network(\"pre-network.nc\")"
   ]
  },
  {
   "cell_type": "markdown",
   "metadata": {},
   "source": [
    "And let's get a general overview of the components in it:"
   ]
  },
  {
   "cell_type": "code",
   "execution_count": null,
   "metadata": {
    "editable": true,
    "slideshow": {
     "slide_type": ""
    },
    "tags": [
     "hide-output"
    ]
   },
   "outputs": [],
   "source": [
    "n.component"
   ]
  },
  {
   "cell_type": "markdown",
   "metadata": {},
   "source": [
    "We have buses which represent the different nodes in the model where components attach."
   ]
  },
  {
   "cell_type": "code",
   "execution_count": null,
   "metadata": {},
   "outputs": [],
   "source": [
    "n.buses.head()"
   ]
  },
  {
   "cell_type": "markdown",
   "metadata": {},
   "source": [
    "And let's look at electric buses for a specific country."
   ]
  },
  {
   "cell_type": "code",
   "execution_count": null,
   "metadata": {},
   "outputs": [],
   "source": [
    "n.buses.query(\"country=='IT' and carrier=='AC'\")"
   ]
  },
  {
   "cell_type": "markdown",
   "metadata": {},
   "source": [
    "Generators which represent generating units (e.g. power plant, wind turbine, PV panel):"
   ]
  },
  {
   "cell_type": "code",
   "execution_count": null,
   "metadata": {},
   "outputs": [],
   "source": [
    "n.generators.head()"
   ]
  },
  {
   "cell_type": "markdown",
   "metadata": {},
   "source": [
    "Links connect two buses with controllable energy flow, direction-control and losses. They can be used to model: <ul><li>HVDC links</li><li>HVAC lines (neglecting KVL, only net transfer capacities (NTCs))</li><li>conversion between carriers (e.g. electricity to hydrogen in electrolysis)</li></ul>"
   ]
  },
  {
   "cell_type": "code",
   "execution_count": null,
   "metadata": {},
   "outputs": [],
   "source": [
    "n.links.head()"
   ]
  },
  {
   "cell_type": "markdown",
   "metadata": {},
   "source": [
    "You can filter a country."
   ]
  },
  {
   "cell_type": "code",
   "execution_count": null,
   "metadata": {},
   "outputs": [],
   "source": [
    "n.links.query(\"Link.str.contains('DE')\").head()"
   ]
  },
  {
   "cell_type": "markdown",
   "metadata": {},
   "source": [
    "The workflow also attaches `Load` to the network. As the load is a time sensitive information, the data is stored in `n.loads_t`. The provided network uses the default PyPSA-Eur loads."
   ]
  },
  {
   "cell_type": "code",
   "execution_count": null,
   "metadata": {},
   "outputs": [],
   "source": [
    "n.loads_t.p_set.head()"
   ]
  },
  {
   "cell_type": "markdown",
   "metadata": {},
   "source": [
    "## Explore Bidding Zones"
   ]
  },
  {
   "cell_type": "markdown",
   "metadata": {},
   "source": [
    "To begin this section, let's start by examining the spatial resolution of the electricity grid representation \n",
    "in the Scenario Building Exercise which is the Bidding Zones."
   ]
  },
  {
   "cell_type": "markdown",
   "metadata": {},
   "source": [
    "Let's load the Bidding Zone shapes that we created for the PyPSA model:"
   ]
  },
  {
   "cell_type": "code",
   "execution_count": null,
   "metadata": {},
   "outputs": [],
   "source": [
    "bz = gpd.read_file(\"bidding_zones.geojson\")"
   ]
  },
  {
   "cell_type": "markdown",
   "metadata": {},
   "source": [
    "Let's have a look at the file:"
   ]
  },
  {
   "cell_type": "code",
   "execution_count": null,
   "metadata": {},
   "outputs": [],
   "source": [
    "bz.head()"
   ]
  },
  {
   "cell_type": "markdown",
   "metadata": {},
   "source": [
    "Let's use a nice interactive plotting package to plot the regions.\n",
    "\n",
    "`.hvplot()` is a powerful and interactive Pandas-like `.plot()` API. You just replace `.plot()` with `.hvplot()` and you get an interactive figure.\n",
    "\n",
    "Documentation can be found here: https://hvplot.holoviz.org/index.html"
   ]
  },
  {
   "cell_type": "code",
   "execution_count": null,
   "metadata": {},
   "outputs": [],
   "source": [
    "def load_projection(plotting_params):\n",
    "    proj_kwargs = plotting_params.get(\"projection\", dict(name=\"EqualEarth\"))\n",
    "    proj_func = getattr(ccrs, proj_kwargs.pop(\"name\"))\n",
    "    return proj_func(**proj_kwargs)"
   ]
  },
  {
   "cell_type": "code",
   "execution_count": null,
   "metadata": {},
   "outputs": [],
   "source": [
    "# set the projection to specify for all geoplotting in this notebook\n",
    "proj = load_projection(dict(name=\"EqualEarth\"))"
   ]
  },
  {
   "cell_type": "code",
   "execution_count": null,
   "metadata": {},
   "outputs": [],
   "source": [
    "hv.extension(\"bokeh\")\n",
    "bz.hvplot(\n",
    "    geo=True,\n",
    "    tiles=\"OSM\",\n",
    "    hover_cols=[\"zone_name\", \"country\"],\n",
    "    c=\"zone_name\",\n",
    "    frame_height=700,\n",
    "    frame_width=1000,\n",
    "    alpha=0.2,\n",
    "    legend=False,\n",
    ").opts(xaxis=None, yaxis=None, active_tools=[\"pan\", \"wheel_zoom\"])"
   ]
  },
  {
   "cell_type": "markdown",
   "metadata": {},
   "source": [
    "## Explore the Electricity reference grid"
   ]
  },
  {
   "cell_type": "markdown",
   "metadata": {},
   "source": [
    "The Electricity reference grid in the `PyPSA` model was implemented as HVAC lines that neglect KVL and only net transfer capacities (NTCs).\n",
    "\n",
    "This is referred to as a `Transport Model`.\n",
    "\n",
    "In `PyPSA`, this can be represented by the `link` component with carrier set to 'DC'."
   ]
  },
  {
   "cell_type": "markdown",
   "metadata": {},
   "source": [
    "Let's have a look at those links:"
   ]
  },
  {
   "cell_type": "code",
   "execution_count": null,
   "metadata": {},
   "outputs": [],
   "source": [
    "reference_grid_elec = n.links.query(\"carrier == 'DC'\")\n",
    "(\n",
    "    reference_grid_elec.loc[\n",
    "        :, [\"p_nom\", \"p_nom_opt\", \"length\", \"p_nom_extendable\"]\n",
    "    ].head(10)\n",
    ")"
   ]
  },
  {
   "cell_type": "markdown",
   "metadata": {},
   "source": [
    "Or we can compute the total transmission capacity of the system in `TWkm`:"
   ]
  },
  {
   "cell_type": "code",
   "execution_count": null,
   "metadata": {},
   "outputs": [],
   "source": [
    "total_TWkm = (\n",
    "    reference_grid_elec.p_nom.div(1e6)  # convert from PyPSA's base unit MW to TW\n",
    "    .mul(reference_grid_elec.length)\n",
    "    .sum()\n",
    "    .round(2)\n",
    ")\n",
    "print(\n",
    "    f\"Total electricity reference grid has a transmission capacity of {total_TWkm} TWkm.\"\n",
    ")"
   ]
  },
  {
   "cell_type": "markdown",
   "metadata": {},
   "source": [
    "We can also check some individual number for specific connections using the `query()` or the `filter(like='<your-filter>')` method."
   ]
  },
  {
   "cell_type": "code",
   "execution_count": null,
   "metadata": {},
   "outputs": [],
   "source": [
    "# example\n",
    "# `query()`\n",
    "print(reference_grid_elec.query(\"Link.str.contains('DE00-BE00')\").p_nom)  # in MW\n",
    "# or `filter()`\n",
    "print(reference_grid_elec.filter(like=\"DE00-BE00\", axis=0).p_nom)"
   ]
  },
  {
   "cell_type": "code",
   "execution_count": null,
   "metadata": {},
   "outputs": [],
   "source": [
    "# Task: extract and filter for specific capacity information from your home country and compare with your data about these connections"
   ]
  },
  {
   "cell_type": "markdown",
   "metadata": {},
   "source": [
    "Additionally, we can also use `PyPSA`'s built in interactive `n.plot.explore()` function to explore the electricity reference grid:"
   ]
  },
  {
   "cell_type": "code",
   "execution_count": null,
   "metadata": {},
   "outputs": [],
   "source": [
    "# explore the reference grid\n",
    "n_elec_grid = n.copy()\n",
    "n_elec_grid.remove(\n",
    "    \"Bus\", n_elec_grid.buses.query(\"carrier != 'AC' or Bus.str.contains('DRES')\").index\n",
    ")\n",
    "n_elec_grid.explore()"
   ]
  },
  {
   "cell_type": "markdown",
   "metadata": {},
   "source": [
    "We can also plot the electricity grid by utilizing a handy plotting function:"
   ]
  },
  {
   "cell_type": "code",
   "execution_count": null,
   "metadata": {},
   "outputs": [],
   "source": [
    "def plot_electricity_reference_grid(n, regions, proj):\n",
    "    lw_factor = 1e3 if n.lines.empty else 2e3\n",
    "\n",
    "    fig, ax = plt.subplots(figsize=(12, 12), subplot_kw={\"projection\": proj})\n",
    "    regions.to_crs(proj.proj4_init).plot(\n",
    "        ax=ax, facecolor=\"none\", edgecolor=\"lightgray\", linewidth=0.75\n",
    "    )\n",
    "    n.plot.map(\n",
    "        ax=ax,\n",
    "        margin=0.06,\n",
    "        line_widths=n.lines.s_nom / lw_factor,\n",
    "        link_widths=n.links.p_nom / lw_factor,\n",
    "    )\n",
    "\n",
    "    if not n.lines.empty:\n",
    "        sizes_ac = [10, 20]\n",
    "        labels_ac = [f\"HVAC ({s} GW)\" for s in sizes_ac]\n",
    "        scale_ac = 1e3 / lw_factor\n",
    "        sizes_ac = [s * scale_ac for s in sizes_ac]\n",
    "\n",
    "        legend_kw_ac = dict(\n",
    "            loc=[0.25, 0.9],\n",
    "            frameon=False,\n",
    "            labelspacing=0.5,\n",
    "            handletextpad=1,\n",
    "            fontsize=13,\n",
    "        )\n",
    "\n",
    "        add_legend_lines(\n",
    "            ax,\n",
    "            sizes_ac,\n",
    "            labels_ac,\n",
    "            patch_kw=dict(color=\"rosybrown\"),\n",
    "            legend_kw=legend_kw_ac,\n",
    "        )\n",
    "\n",
    "    if not n.links.empty:\n",
    "        sizes_dc = [1, 5]\n",
    "        labels_dc = [f\"HVDC ({s} GW)\" for s in sizes_dc]\n",
    "        scale_dc = 1e3 / lw_factor\n",
    "        sizes_dc = [s * scale_dc for s in sizes_dc]\n",
    "\n",
    "        legend_kw_dc = dict(\n",
    "            loc=[0.0, 0.9],\n",
    "            frameon=False,\n",
    "            labelspacing=0.5,\n",
    "            handletextpad=1,\n",
    "            fontsize=13,\n",
    "        )\n",
    "\n",
    "        add_legend_lines(\n",
    "            ax,\n",
    "            sizes_dc,\n",
    "            labels_dc,\n",
    "            patch_kw=dict(color=\"darkseagreen\"),\n",
    "            legend_kw=legend_kw_dc,\n",
    "        )\n",
    "\n",
    "    plt.show()"
   ]
  },
  {
   "cell_type": "code",
   "execution_count": null,
   "metadata": {},
   "outputs": [],
   "source": [
    "plot_electricity_reference_grid(n_elec_grid, bz, proj)"
   ]
  },
  {
   "cell_type": "markdown",
   "metadata": {},
   "source": [
    "## Explore the Hydrogen reference grid"
   ]
  },
  {
   "cell_type": "markdown",
   "metadata": {},
   "source": [
    "Similar to the Electricity reference grid, the H2 reference grid in the `PyPSA` model was implemented using the `link` component to represent the transport model of the Scenario Building exercise."
   ]
  },
  {
   "cell_type": "markdown",
   "metadata": {},
   "source": [
    "Let's have a look at those Hydrogen reference grid links:"
   ]
  },
  {
   "cell_type": "code",
   "execution_count": null,
   "metadata": {},
   "outputs": [],
   "source": [
    "reference_grid_h2 = n.links.query(\"carrier == 'H2 pipeline'\")\n",
    "(\n",
    "    reference_grid_h2.loc[:, [\"p_nom\", \"p_nom_opt\", \"length\", \"p_nom_extendable\"]].head(\n",
    "        10\n",
    "    )\n",
    ")"
   ]
  },
  {
   "cell_type": "markdown",
   "metadata": {},
   "source": [
    "Again, we can compute the total transmission capacity of the system in `TWkm`:"
   ]
  },
  {
   "cell_type": "code",
   "execution_count": null,
   "metadata": {},
   "outputs": [],
   "source": [
    "total_TWkm = (\n",
    "    reference_grid_h2.p_nom.div(1e6)  # convert from PyPSA's base unit MW to TW\n",
    "    .mul(reference_grid_h2.length)\n",
    "    .sum()\n",
    "    .round(2)\n",
    ")\n",
    "print(f\"The H2 reference grid has a total transmission capacity of {total_TWkm} TWkm.\")"
   ]
  },
  {
   "cell_type": "markdown",
   "metadata": {},
   "source": [
    "And also extract and check some individual numbers for specific connections:"
   ]
  },
  {
   "cell_type": "code",
   "execution_count": null,
   "metadata": {},
   "outputs": [],
   "source": [
    "# Task: extract and filter for specific capacity information and compare with your data about these connections\n",
    "n.links.query(\"carrier.str.contains('H2') and Link.str.contains('DE')\").head()"
   ]
  },
  {
   "cell_type": "markdown",
   "metadata": {},
   "source": [
    "Again, we can also use `PyPSA`'s built in interactive `n.plot.explore()` function to explore the hydrogen reference grid. \n",
    "\n",
    "As we can see, the spatial resolution of the H2 reference grid is different to the electricity reference grid."
   ]
  },
  {
   "cell_type": "code",
   "execution_count": null,
   "metadata": {},
   "outputs": [],
   "source": [
    "# explore the reference grid\n",
    "n_h2_grid = n.copy()\n",
    "n_h2_grid.remove(\"Bus\", n_h2_grid.buses.query(\"carrier != 'H2'\").index)\n",
    "n_h2_grid.remove(\"Link\", n_h2_grid.links.query(\"p_nom == 0\").index)\n",
    "n_h2_grid.explore()"
   ]
  },
  {
   "cell_type": "markdown",
   "metadata": {},
   "source": [
    "We can also plot the electricity grid by importing and utilizing a handy plotting function:"
   ]
  },
  {
   "cell_type": "code",
   "execution_count": null,
   "metadata": {},
   "outputs": [],
   "source": [
    "def load_projection(plotting_params):\n",
    "    proj_kwargs = plotting_params.get(\"projection\", dict(name=\"EqualEarth\"))\n",
    "    proj_func = getattr(ccrs, proj_kwargs.pop(\"name\"))\n",
    "    return proj_func(**proj_kwargs)\n",
    "\n",
    "\n",
    "def plot_h2_reference_grid(network, map_opts):\n",
    "    n = network.copy()\n",
    "\n",
    "    linewidth_factor = 4e3\n",
    "\n",
    "    n.links.drop(\n",
    "        n.links.index[~n.links.carrier.str.contains(\"H2 pipeline\")], inplace=True\n",
    "    )\n",
    "    h2_pipes = n.links[n.links.carrier == \"H2 pipeline\"].p_nom\n",
    "    link_widths_total = h2_pipes / linewidth_factor\n",
    "    if link_widths_total.notnull().empty:\n",
    "        print(\"No base H2 pipeline capacities to plot.\")\n",
    "        return\n",
    "    link_widths_total = link_widths_total.reindex(n.links.index).fillna(0.0)\n",
    "\n",
    "    proj = load_projection(dict(name=\"EqualEarth\"))\n",
    "    n.buses.drop(n.buses.index[~n.buses.carrier.str.contains(\"H2\")], inplace=True)\n",
    "\n",
    "    fig, ax = plt.subplots(figsize=(7, 6), subplot_kw={\"projection\": proj})\n",
    "    color_h2_pipe = \"#499a9c\"\n",
    "    color_h2_node = \"#ff29d9\"\n",
    "\n",
    "    n.plot.map(\n",
    "        geomap=True,\n",
    "        bus_sizes=0.1,\n",
    "        bus_colors=color_h2_node,\n",
    "        link_colors=color_h2_pipe,\n",
    "        link_widths=link_widths_total,\n",
    "        branch_components=[\"Link\"],\n",
    "        ax=ax,\n",
    "        **map_opts,\n",
    "    )\n",
    "\n",
    "    sizes = [30, 10]\n",
    "    labels = [f\"{s} GW\" for s in sizes]\n",
    "    scale = 1e3 / 4e3\n",
    "    sizes = [s * scale for s in sizes]\n",
    "\n",
    "    legend_kw = dict(\n",
    "        loc=\"upper left\",\n",
    "        bbox_to_anchor=(0.01, 1.07),\n",
    "        frameon=False,\n",
    "        ncol=2,\n",
    "        labelspacing=0.8,\n",
    "        handletextpad=1,\n",
    "    )\n",
    "\n",
    "    add_legend_lines(\n",
    "        ax,\n",
    "        sizes,\n",
    "        labels,\n",
    "        patch_kw=dict(color=\"lightgrey\"),\n",
    "        legend_kw=legend_kw,\n",
    "    )\n",
    "\n",
    "    legend_kw = dict(\n",
    "        loc=\"upper left\",\n",
    "        bbox_to_anchor=(0.25, 1.13),\n",
    "        labelspacing=0.8,\n",
    "        handletextpad=0,\n",
    "        frameon=False,\n",
    "    )\n",
    "\n",
    "    add_legend_circles(\n",
    "        ax,\n",
    "        sizes=[0.2],\n",
    "        labels=[\"H2 Node\"],\n",
    "        srid=n.srid,\n",
    "        patch_kw=dict(facecolor=color_h2_node),\n",
    "        legend_kw=legend_kw,\n",
    "    )\n",
    "\n",
    "    colors = [color_h2_pipe]\n",
    "    labels = [\"H2 Pipeline\"]\n",
    "\n",
    "    legend_kw = dict(\n",
    "        loc=\"upper left\",\n",
    "        bbox_to_anchor=(0, 1.13),\n",
    "        ncol=1,\n",
    "        frameon=False,\n",
    "    )\n",
    "\n",
    "    add_legend_patches(ax, colors, labels, legend_kw=legend_kw)\n",
    "\n",
    "    ax.set_facecolor(\"white\")\n",
    "\n",
    "    plt.show()"
   ]
  },
  {
   "cell_type": "code",
   "execution_count": null,
   "metadata": {},
   "outputs": [],
   "source": [
    "proj = load_projection(dict(name=\"EqualEarth\"))\n",
    "map_opts = {\n",
    "    \"boundaries\": [-11, 30, 34, 71],\n",
    "    \"geomap_colors\": {\n",
    "        \"ocean\": \"white\",\n",
    "        \"land\": \"white\",\n",
    "    },\n",
    "}"
   ]
  },
  {
   "cell_type": "code",
   "execution_count": null,
   "metadata": {},
   "outputs": [],
   "source": [
    "plot_h2_reference_grid(n_h2_grid, map_opts)"
   ]
  },
  {
   "cell_type": "markdown",
   "metadata": {},
   "source": [
    "# Hands-on Session 2: Extracting insights & Visualization"
   ]
  },
  {
   "cell_type": "markdown",
   "metadata": {},
   "source": [
    "## Import the solved model"
   ]
  },
  {
   "cell_type": "code",
   "execution_count": null,
   "metadata": {},
   "outputs": [],
   "source": [
    "n = pypsa.Network(\"post-network.nc\")"
   ]
  },
  {
   "cell_type": "markdown",
   "metadata": {},
   "source": [
    "## Extract insights from the network: The `PyPSA.statistics` module"
   ]
  },
  {
   "cell_type": "markdown",
   "metadata": {},
   "source": [
    "Let's investigate the results from the solved model.\n",
    "\n",
    "First, we would like to see the optimal power plant capacities in the model:"
   ]
  },
  {
   "cell_type": "code",
   "execution_count": null,
   "metadata": {},
   "outputs": [],
   "source": [
    "n.statistics().T"
   ]
  },
  {
   "cell_type": "code",
   "execution_count": null,
   "metadata": {},
   "outputs": [],
   "source": [
    "(\n",
    "    n.statistics.optimal_capacity(\n",
    "        bus_carrier=[\"AC\", \"low voltage\"],\n",
    "        groupby=[\"location\", \"carrier\"],\n",
    "    )\n",
    "    .div(1e3)  # GW\n",
    "    .sort_values(ascending=False)\n",
    "    .to_frame(name=\"p_nom_opt\")\n",
    "    .query(\"p_nom_opt>1e-3\")\n",
    "    .pivot_table(index=\"location\", columns=\"carrier\", values=\"p_nom_opt\")\n",
    "    .fillna(0)\n",
    "    .sort_values(by=[\"Onshore Wind\"], ascending=False)\n",
    ")"
   ]
  },
  {
   "cell_type": "markdown",
   "metadata": {},
   "source": [
    "We can also easily look into the energy balance for a specific carrier by Node. \n",
    "\n",
    "So, let's investigate the Hydrogen balance at the Z1 and Z2 nodes of Germany (DE):"
   ]
  },
  {
   "cell_type": "code",
   "execution_count": null,
   "metadata": {},
   "outputs": [],
   "source": [
    "(\n",
    "    n.statistics.energy_balance(carrier=\"H2\", groupby=[\"bus\", \"country\", \"carrier\"])\n",
    "    .div(1e3)\n",
    "    .to_frame(name=\"balance_GW\")\n",
    "    .query(\"bus.str.contains('DE H2')\")\n",
    ")"
   ]
  },
  {
   "cell_type": "markdown",
   "metadata": {},
   "source": [
    "... or look at renewable curtailment in the system:"
   ]
  },
  {
   "cell_type": "code",
   "execution_count": null,
   "metadata": {},
   "outputs": [],
   "source": [
    "(\n",
    "    n.statistics.curtailment(\n",
    "        bus_carrier=[\"AC\", \"low voltage\"],\n",
    "        groupby=[\"location\", \"carrier\"],\n",
    "    )\n",
    "    .div(1e3)  # GW\n",
    "    .sort_values(ascending=False)\n",
    "    .to_frame(name=\"p_nom_opt\")\n",
    "    .query(\"p_nom_opt>1e-3\")\n",
    "    .pivot_table(index=\"location\", columns=\"carrier\", values=\"p_nom_opt\")\n",
    "    .fillna(0)\n",
    "    .sort_values(by=[\"Onshore Wind\"], ascending=False)\n",
    ")"
   ]
  },
  {
   "cell_type": "markdown",
   "metadata": {},
   "source": [
    "## Visualizing results with the `PyPSA.statistics` module"
   ]
  },
  {
   "cell_type": "markdown",
   "metadata": {},
   "source": [
    "The `PyPSA.statistics` module can also be used to create some really handy static plotting to investigate the results of a model:"
   ]
  },
  {
   "cell_type": "code",
   "execution_count": null,
   "metadata": {},
   "outputs": [],
   "source": [
    "fig, ax = plt.subplots()\n",
    "n.statistics.energy_balance().loc[:, :, \"AC\"].groupby(\n",
    "    \"carrier\"\n",
    ").sum().to_frame().T.plot.bar(stacked=True, ax=ax, title=\"Energy Balance\")\n",
    "ax.legend(bbox_to_anchor=(1, 0), loc=\"lower left\", title=None, ncol=1)"
   ]
  },
  {
   "cell_type": "code",
   "execution_count": null,
   "metadata": {},
   "outputs": [],
   "source": [
    "# insert Fabian's cool statistics.plot examples here"
   ]
  },
  {
   "cell_type": "markdown",
   "metadata": {},
   "source": [
    "Example: With some tweaking and construction, we can use PyPSA's plotting to create some really cool visualizations of the resulting net hydrogen flows in the network:"
   ]
  },
  {
   "cell_type": "code",
   "execution_count": null,
   "metadata": {},
   "outputs": [],
   "source": [
    "def plot_net_H2_flows(n, regions, countries=[], figsize=(8, 8)):\n",
    "    network = n.copy()\n",
    "    # if \"H2 pipeline\" not in n.links.carrier.unique():\n",
    "    #     return\n",
    "    if len(countries) == 0:\n",
    "        countries = regions.index.values\n",
    "\n",
    "    linewidth_factor = 5e2\n",
    "    # MW below which not drawn\n",
    "    line_lower_threshold = 1e2\n",
    "    min_energy = 0\n",
    "    lim = 50\n",
    "    link_color = \"#499a9c\"\n",
    "    flow_factor = 100\n",
    "\n",
    "    # get H2 energy balance per node\n",
    "    carrier = \"H2\"\n",
    "    h2_energy_balance = network.statistics.energy_balance(\n",
    "        bus_carrier=\"H2\", comps=\"Link\", groupby=[\"country\", \"carrier\"]\n",
    "    ).to_frame()\n",
    "\n",
    "    to_drop = [\"H2 pipeline\"]\n",
    "    # drop pipelines and storages from energy balance\n",
    "    h2_energy_balance.drop(h2_energy_balance.loc[:, to_drop, :].index, inplace=True)\n",
    "    # filter for countries\n",
    "    # h2_energy_balance = h2_energy_balance.loc[countries,:,:]\n",
    "    # regions = regions.loc[countries]\n",
    "\n",
    "    regions[\"H2\"] = (\n",
    "        h2_energy_balance.groupby(level=0).sum()\n",
    "        # .div(1e6)  # TWh\n",
    "        .mul(-1)  # so demand is positive and supply is negative\n",
    "    )\n",
    "\n",
    "    # Drop non-hydrogen buses so they don't clutter the plot\n",
    "    # And filter for countries\n",
    "    network.buses.drop(network.buses.query(\"carrier != 'H2'\").index, inplace=True)\n",
    "    # network.buses.drop(network.buses.query(\"country not in @countries\").index, inplace=True)\n",
    "\n",
    "    # drop all links which are not H2 pipelines\n",
    "    network.links.drop(\n",
    "        network.links.index[~network.links.carrier.str.contains(\"H2 pipeline\")],\n",
    "        inplace=True,\n",
    "    )\n",
    "\n",
    "    network.links[\"flow\"] = network.snapshot_weightings.generators @ network.links_t.p0\n",
    "\n",
    "    positive_order = network.links.bus0 < network.links.bus1\n",
    "    swap_buses = {\"bus0\": \"bus1\", \"bus1\": \"bus0\"}\n",
    "    network.links.loc[~positive_order] = network.links.rename(columns=swap_buses)\n",
    "    network.links.loc[~positive_order, \"flow\"] = -network.links.loc[\n",
    "        ~positive_order, \"flow\"\n",
    "    ]\n",
    "    network.links.index = network.links.apply(\n",
    "        lambda x: f\"H2 pipeline {x.bus0} -> {x.bus1}\", axis=1\n",
    "    )\n",
    "    network.links = network.links.groupby(network.links.index).agg(\n",
    "        dict(flow=\"sum\", bus0=\"first\", bus1=\"first\", carrier=\"first\", p_nom_opt=\"sum\")\n",
    "    )\n",
    "    network.links.flow = network.links.flow.where(network.links.flow.abs() > min_energy)\n",
    "\n",
    "    # drop links not connecting countries in country list\n",
    "    # network.links.drop(network.links.loc[((~network.links.bus0.str.contains('|'.join(countries))) | (~network.links.bus1.str.contains('|'.join(countries))))].index, inplace=True)\n",
    "    # n.links.loc[((n.links.bus0.str.contains('|'.join(countries))) & (n.links.bus1.str.contains('|'.join(countries))))]\n",
    "\n",
    "    proj = ccrs.EqualEarth()\n",
    "    regions = regions.to_crs(proj.proj4_init)\n",
    "\n",
    "    fig, ax = plt.subplots(figsize=figsize, subplot_kw={\"projection\": proj})\n",
    "\n",
    "    link_widths_flows = network.links.flow.div(linewidth_factor).fillna(0)\n",
    "    # cap link width\n",
    "    link_widths_flows = link_widths_flows.where(\n",
    "        (link_widths_flows.abs() < 1) | (link_widths_flows < 0), 1\n",
    "    ).where(  # 1 where not between 0 and 1 or negative\n",
    "        (link_widths_flows.abs() < 1) | (link_widths_flows > 0), -1\n",
    "    )  # -1 where not between 0 and -1 or positive\n",
    "\n",
    "    network.plot.map(\n",
    "        geomap=True,\n",
    "        bus_sizes=0,\n",
    "        link_colors=link_color,\n",
    "        link_widths=link_widths_flows,\n",
    "        branch_components=[\"Link\"],\n",
    "        ax=ax,\n",
    "        flow=pd.concat({\"Link\": link_widths_flows * flow_factor}),\n",
    "        **map_opts,\n",
    "    )\n",
    "\n",
    "    regions.plot(\n",
    "        ax=ax,\n",
    "        column=\"H2\",\n",
    "        cmap=\"BrBG\",\n",
    "        linewidths=0,\n",
    "        legend=True,\n",
    "        vmax=lim,\n",
    "        vmin=-lim,\n",
    "        legend_kwds={\n",
    "            \"label\": \"Hydrogen balance [MWh] \\n + Supply, - Demand\",\n",
    "            \"shrink\": 0.7,\n",
    "            \"extend\": \"max\",\n",
    "        },\n",
    "    )\n",
    "\n",
    "    legend_kw = dict(\n",
    "        loc=\"upper left\",\n",
    "        bbox_to_anchor=(-0.1, 1.13),\n",
    "        frameon=False,\n",
    "        labelspacing=0.8,\n",
    "        handletextpad=1,\n",
    "    )\n",
    "\n",
    "    sizes = [2, 1, 0.5]\n",
    "    sizes_str = {2: \" over\", 1: \"\", 0.5: \"\"}\n",
    "    labels = [f\"Hydrogen flows{sizes_str[s]} {s} GWh\" for s in sizes]\n",
    "    scale = 1e3 / linewidth_factor\n",
    "    sizes = [s * scale for s in sizes]\n",
    "    add_legend_lines(\n",
    "        ax,\n",
    "        sizes,\n",
    "        labels,\n",
    "        patch_kw=dict(color=link_color),\n",
    "        legend_kw=legend_kw,\n",
    "    )\n",
    "\n",
    "    ax.set_facecolor(\"white\")"
   ]
  },
  {
   "cell_type": "code",
   "execution_count": null,
   "metadata": {},
   "outputs": [],
   "source": [
    "h2_regions = bz.dissolve(by=\"country\")\n",
    "plot_net_H2_flows(n, h2_regions)"
   ]
  },
  {
   "cell_type": "code",
   "execution_count": null,
   "metadata": {},
   "outputs": [],
   "source": [
    "(\n",
    "    n.loads_t.p_set.loc[:, n.loads.query(\"carrier == 'electricity'\").index]\n",
    "    .sum(axis=1)\n",
    "    .div(1e3)  # GW\n",
    ").plot(ylabel=\"GW\", title=\"Electric load\")"
   ]
  }
 ],
 "metadata": {
  "kernelspec": {
   "display_name": "",
   "language": "python",
   "name": ""
  },
  "language_info": {
   "codemirror_mode": {
    "name": "ipython",
    "version": 3
   },
   "file_extension": ".py",
   "mimetype": "text/x-python",
   "name": "python",
   "nbconvert_exporter": "python",
   "pygments_lexer": "ipython3",
   "version": "3.12.9"
  }
 },
 "nbformat": 4,
 "nbformat_minor": 4
}
