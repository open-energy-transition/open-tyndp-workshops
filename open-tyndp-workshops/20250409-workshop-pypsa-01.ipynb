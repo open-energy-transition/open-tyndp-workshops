{
 "cells": [
  {
   "cell_type": "markdown",
   "metadata": {},
   "source": [
    "# Workshop 1: Introduction to `PyPSA` & TYNDP reference grids"
   ]
  },
  {
   "cell_type": "markdown",
   "metadata": {},
   "source": [
    "<img src=\"https://github.com/fneum/data-science-for-esm/raw/main/data-science-for-esm/pypsa-logo.png\" width=\"300px\" />\n",
    "\n",
    "PyPSA stands for **Python for Power System Analysis**.\n",
    "\n",
    "PyPSA is an open source Python package for simulating and optimising modern energy systems that include features such as\n",
    "\n",
    "- conventional generators with unit commitment (ramp-up, ramp-down, start-up, shut-down),\n",
    "- time-varying wind and solar generation,\n",
    "- energy storage with efficiency losses and inflow/spillage for hydroelectricity\n",
    "- coupling to other energy sectors (electricity, transport, heat, industry),\n",
    "- conversion between energy carriers (e.g. electricity to hydrogen),\n",
    "- transmission networks (AC, DC, other fuels)\n",
    "\n",
    "PyPSA can be used for a variety of problem types (e.g. electricity market modelling, long-term investment planning, transmission network expansion planning), and is designed to scale well with large networks and long time series.\n",
    "\n",
    "Compared to building power system by hand in `linopy`, PyPSA does the following things for you:\n",
    "\n",
    "- manage data inputs\n",
    "- build optimisation problem\n",
    "- communicate with the solver\n",
    "- retrieve and process optimisation results\n",
    "- manage data outputs\n",
    "\n",
    "### Dependencies\n",
    "\n",
    "- `pandas` for storing data about network components and time series\n",
    "- `numpy` and `scipy` for linear algebra and sparse matrix calculations\n",
    "- `matplotlib` and `cartopy` for plotting on a map\n",
    "- `networkx` for network calculations\n",
    "- `linopy` for handling optimisation problems"
   ]
  },
  {
   "cell_type": "markdown",
   "metadata": {},
   "source": [
    ":::{note}\n",
    "Documentation for this package is available at https://pypsa.readthedocs.io.\n",
    ":::"
   ]
  },
  {
   "cell_type": "markdown",
   "metadata": {},
   "source": [
    ":::{note}\n",
    "If you have not yet set up Python on your computer, you can execute this tutorial in your browser via [Google Colab](https://colab.research.google.com/). Click on the rocket in the top right corner and launch \"Colab\". If that doesn't work download the `.ipynb` file and import it in [Google Colab](https://colab.research.google.com/).\n",
    "\n",
    "Then install the following packages by executing the following command in a Jupyter cell at the top of the notebook.\n",
    "\n",
    "```sh\n",
    "!pip install pypsa matplotlib cartopy highspy\n",
    "```\n",
    ":::"
   ]
  },
  {
   "cell_type": "markdown",
   "metadata": {},
   "source": [
    "## Basic Structure"
   ]
  },
  {
   "cell_type": "markdown",
   "metadata": {},
   "source": [
    "| Component | Description |\n",
    "| --- | --- |\n",
    "| [Network](https://pypsa.readthedocs.io/en/latest/components.html#network) | Container for all components. |\n",
    "| [Bus](https://pypsa.readthedocs.io/en/latest/components.html#bus) | Node where components attach. |\n",
    "| [Carrier](https://pypsa.readthedocs.io/en/latest/components.html#carrier) | Energy carrier or technology (e.g. electricity, hydrogen, gas, coal, oil, biomass, on-/offshore wind, solar). Can track properties such as specific carbon dioxide emissions or nice names and colors for plots. |\n",
    "| [Load](https://pypsa.readthedocs.io/en/latest/components.html#load) | Energy consumer (e.g. electricity demand). |\n",
    "| [Generator](https://pypsa.readthedocs.io/en/latest/components.html#generator) | Generator (e.g. power plant, wind turbine, PV panel). |\n",
    "| [Line](https://pypsa.readthedocs.io/en/latest/components.html#line) | Power distribution and transmission lines (overhead and cables). |\n",
    "| [Link](https://pypsa.readthedocs.io/en/latest/components.html#link) | Links connect two buses with controllable energy flow, direction-control and losses. They can be used to model: <ul><li>HVDC links</li><li>HVAC lines (neglecting KVL, only net transfer capacities (NTCs))</li><li>conversion between carriers (e.g. electricity to hydrogen in electrolysis)</li></ul> |\n",
    "| [StorageUnit](https://pypsa.readthedocs.io/en/latest/components.html#storage-unit) | Storage with fixed nominal energy-to-power ratio. |\n",
    "| [GlobalConstraint](https://pypsa.readthedocs.io/en/latest/components.html#global-constraints) | Constraints affecting many components at once, such as emission limits. |\n",
    "| [Store](https://pypsa.readthedocs.io/en/latest/components.html#store) | Storage with separately extendable energy capacity. |\n",
    "|  | **not used in this course** |\n",
    "| [LineType](https://pypsa.readthedocs.io/en/latest/components.html#line-types) | Standard line types. |\n",
    "| [Transformer](https://pypsa.readthedocs.io/en/latest/components.html#transformer) | 2-winding transformer. |\n",
    "| [TransformerType](https://pypsa.readthedocs.io/en/latest/components.html#transformer-types) | Standard types of 2-winding transformer. |\n",
    "| [ShuntImpedance](https://pypsa.readthedocs.io/en/latest/components.html#shunt-impedance) | Shunt. |\n",
    "\n",
    "\n",
    ":::{note}\n",
    "Links in the table lead to documentation for each component.\n",
    ":::\n",
    "\n",
    "<img src=\"https://pypsa.readthedocs.io/en/latest/_images/buses.png\" width=\"500px\" />\n"
   ]
  },
  {
   "cell_type": "markdown",
   "metadata": {},
   "source": [
    ":::{warning}\n",
    "Per unit values of voltage and impedance are used internally for network calculations. It is assumed internally that the base power is **1 MW**.\n",
    ":::\n",
    "\n",
    "## From structured data to optimisation\n",
    "\n",
    "The design principle of PyPSA is that basically each component is associated with a set of variables and constraints that will be added to the optimisation model based on the input data stored for the components.\n",
    "\n",
    "For an *hourly* electricity market simulation, PyPSA will solve an optimisation problem that looks like this\n",
    "\n",
    "\\begin{equation}\n",
    "\\min_{g_{i,s,t}; f_{\\ell,t}; g_{i,r,t,\\text{charge}}; g_{i,r,t,\\text{discharge}}; e_{i,r,t}} \\sum_s o_{s} g_{i,s,t}\n",
    "\\end{equation}\n",
    "such that\n",
    "\\begin{align}\n",
    "0 & \\leq g_{i,s,t} \\leq \\hat{g}_{i,s,t} G_{i,s}  & \\text{generation limits : generator} \\\\\n",
    "-F_\\ell &\\leq f_{\\ell,t} \\leq F_\\ell & \\text{transmission limits : line}  \\\\\n",
    "d_{i,t} &= \\sum_s g_{i,s,t} + \\sum_r g_{i,r,t,\\text{discharge}} - \\sum_r g_{i,r,t,\\text{charge}} - \\sum_\\ell K_{i\\ell} f_{\\ell,t} & \\text{KCL : bus} \\\\\n",
    " 0 &=\\sum_\\ell C_{\\ell c} x_\\ell f_{\\ell,t} & \\text{KVL : cycles} \\\\\n",
    "0 & \\leq g_{i,r,t,\\text{discharge}} \\leq G_{i,r,\\text{discharge}}& \\text{discharge limits : storage unit} \\\\\n",
    "    0 & \\leq g_{i,r,t,\\text{charge}} \\leq G_{i,r,\\text{charge}} & \\text{charge limits : storage unit} \\\\\n",
    "    0 & \\leq e_{i,r,t} \\leq E_{i,r} & \\text{energy limits : storage unit} \\\\\n",
    "    e_{i,r,t} &= \\eta^0_{i,r,t} e_{i,r,t-1} + \\eta^1_{i,r,t}g_{i,r,t,\\text{charge}} -  \\frac{1}{\\eta^2_{i,r,t}} g_{i,r,t,\\text{discharge}} & \\text{consistency : storage unit} \\\\\n",
    "    e_{i,r,0} & = e_{i,r,|T|-1}  & \\text{cyclicity : storage unit}\n",
    "\\end{align}\n",
    "\n",
    "**Decision variables:**\n",
    "\n",
    "- $g_{i,s,t}$ is the generator dispatch at bus $i$, technology $s$, time step $t$,\n",
    "- $f_{\\ell,t}$ is the power flow in line $\\ell$,\n",
    "- $g_{i,r,t,\\text{dis-/charge}}$ denotes the charge and discharge of storage unit $r$ at bus $i$ and time step $t$,\n",
    "- $e_{i,r,t}$ is the state of charge of storage $r$ at bus $i$ and time step $t$.\n",
    "\n",
    "**Parameters:**\n",
    "\n",
    "- $o_{i,s}$ is the marginal generation cost of technology $s$ at bus $i$,\n",
    "- $x_\\ell$ is the reactance of transmission line $\\ell$,\n",
    "- $K_{i\\ell}$ is the incidence matrix,\n",
    "- $C_{\\ell c}$ is the cycle matrix,\n",
    "- $G_{i,s}$ is the nominal capacity of the generator of technology $s$ at bus $i$,\n",
    "- $F_{\\ell}$ is the rating of the transmission line $\\ell$,\n",
    "- $E_{i,r}$ is the energy capacity of storage $r$ at bus $i$,\n",
    "- $\\eta^{0/1/2}_{i,r,t}$ denote the standing (0), charging (1), and discharging (2) efficiencies.\n",
    "\n",
    ":::{note}\n",
    "For a full reference to the optimisation problem description, see https://pypsa.readthedocs.io/en/latest/optimal_power_flow.html\n",
    ":::"
   ]
  },
  {
   "cell_type": "code",
   "execution_count": null,
   "metadata": {},
   "outputs": [],
   "source": [
    "# Include some basic PyPSA examples and explanations and tasks"
   ]
  },
  {
   "cell_type": "markdown",
   "metadata": {},
   "source": [
    "# Hands-on Session 1: Building the reference grids"
   ]
  },
  {
   "cell_type": "markdown",
   "metadata": {},
   "source": [
    ":::{note}\n",
    "If you have not yet set up Python on your computer, you can execute this tutorial in your browser via [Google Colab](https://colab.research.google.com/). Click on the rocket in the top right corner and launch \"Colab\". If that doesn't work download the `.ipynb` file and import it in [Google Colab](https://colab.research.google.com/).\n",
    "\n",
    "Then install the following packages by executing the following command in a Jupyter cell at the top of the notebook.\n",
    "\n",
    "```sh\n",
    "!pip install pypsa atlite pandas geopandas xarray matplotlib hvplot geoviews plotly highspy\n",
    "%env HV_DOC_HTML=true\n",
    "```\n",
    ":::"
   ]
  },
  {
   "cell_type": "code",
   "execution_count": null,
   "metadata": {},
   "outputs": [],
   "source": [
    "# For executing this notebook in Google Colab\n",
    "# !pip install pypsa atlite pandas geopandas xarray matplotlib hvplot geoviews plotly highspy\n",
    "# %env HV_DOC_HTML=true"
   ]
  },
  {
   "cell_type": "code",
   "execution_count": null,
   "metadata": {
    "tags": []
   },
   "outputs": [],
   "source": [
    "import pypsa\n",
    "import atlite\n",
    "import pandas as pd\n",
    "import geopandas as gpd\n",
    "import xarray as xr\n",
    "import matplotlib.pyplot as plt\n",
    "import holoviews as hv\n",
    "\n",
    "plt.style.use(\"bmh\")"
   ]
  },
  {
   "cell_type": "code",
   "execution_count": null,
   "metadata": {
    "editable": true,
    "slideshow": {
     "slide_type": ""
    },
    "tags": [
     "hide-cell"
    ]
   },
   "outputs": [],
   "source": [
    "from urllib.request import urlretrieve\n",
    "from os.path import basename\n",
    "\n",
    "urls = [\n",
    "    \"https://tubcloud.tu-berlin.de/s/2oogpgBfM5n4ssZ/download/PORTUGAL-2013-01-era5.nc\",\n",
    "]\n",
    "for url in urls:\n",
    "    urlretrieve(url, basename(url))"
   ]
  },
  {
   "cell_type": "markdown",
   "metadata": {
    "tags": []
   },
   "source": [
    "## Load Example Data"
   ]
  },
  {
   "cell_type": "markdown",
   "metadata": {
    "editable": true,
    "slideshow": {
     "slide_type": ""
    },
    "tags": []
   },
   "source": [
    "First, let's load a pre-composed PyPSA Network:"
   ]
  },
  {
   "cell_type": "code",
   "execution_count": null,
   "metadata": {},
   "outputs": [],
   "source": [
    "n = pypsa.Network(\"base_extended.nc\")"
   ]
  },
  {
   "cell_type": "markdown",
   "metadata": {},
   "source": [
    "And let's get a general overview of the components in it:"
   ]
  },
  {
   "cell_type": "code",
   "execution_count": null,
   "metadata": {
    "editable": true,
    "slideshow": {
     "slide_type": ""
    },
    "tags": [
     "hide-output"
    ]
   },
   "outputs": [],
   "source": [
    "n.component"
   ]
  },
  {
   "cell_type": "markdown",
   "metadata": {},
   "source": [
    "We have buses which represent the different node in the model where components attach."
   ]
  },
  {
   "cell_type": "code",
   "execution_count": null,
   "metadata": {},
   "outputs": [],
   "source": [
    "n.buses"
   ]
  },
  {
   "cell_type": "markdown",
   "metadata": {},
   "source": [
    "Generators which represent generating units (e.g. power plant, wind turbine, PV panel):"
   ]
  },
  {
   "cell_type": "code",
   "execution_count": null,
   "metadata": {},
   "outputs": [],
   "source": [
    "n.generators"
   ]
  },
  {
   "cell_type": "markdown",
   "metadata": {},
   "source": [
    "Links connect two buses with controllable energy flow, direction-control and losses. They can be used to model: <ul><li>HVDC links</li><li>HVAC lines (neglecting KVL, only net transfer capacities (NTCs))</li><li>conversion between carriers (e.g. electricity to hydrogen in electrolysis)</li></ul>"
   ]
  },
  {
   "cell_type": "code",
   "execution_count": null,
   "metadata": {},
   "outputs": [],
   "source": [
    "n.links"
   ]
  },
  {
   "cell_type": "code",
   "execution_count": null,
   "metadata": {},
   "outputs": [],
   "source": [
    "n.loads_t.p"
   ]
  },
  {
   "cell_type": "markdown",
   "metadata": {},
   "source": [
    "## Explore Bidding Zones"
   ]
  },
  {
   "cell_type": "markdown",
   "metadata": {},
   "source": [
    "To begin this section, let's start by examining the spatial resolution of the electricity grid representation \n",
    "in the Scenario Building Exercise which is the Bidding Zones."
   ]
  },
  {
   "cell_type": "markdown",
   "metadata": {},
   "source": [
    "Let's load the Bidding Zone shapes that we created for the PyPSA model:"
   ]
  },
  {
   "cell_type": "code",
   "execution_count": null,
   "metadata": {},
   "outputs": [],
   "source": [
    "url = \"bidding_zones.geojson\"\n",
    "bz = gpd.read_file(url)"
   ]
  },
  {
   "cell_type": "markdown",
   "metadata": {},
   "source": [
    "Let's have a look at the file:"
   ]
  },
  {
   "cell_type": "code",
   "execution_count": null,
   "metadata": {},
   "outputs": [],
   "source": [
    "bz.head()"
   ]
  },
  {
   "cell_type": "markdown",
   "metadata": {},
   "source": [
    "Let's use a nice interactive plotting package to plot the regions.\n",
    "\n",
    "`.hvplot()` is a powerful and interactive Pandas-like `.plot()` API. You just replace `.plot()` with `.hvplot()` and you get an interactive figure.\n",
    "\n",
    "Documentation can be found here: https://hvplot.holoviz.org/index.html"
   ]
  },
  {
   "cell_type": "code",
   "execution_count": null,
   "metadata": {},
   "outputs": [],
   "source": [
    "def load_projection(plotting_params):\n",
    "    proj_kwargs = plotting_params.get(\"projection\", dict(name=\"EqualEarth\"))\n",
    "    proj_func = getattr(ccrs, proj_kwargs.pop(\"name\"))\n",
    "    return proj_func(**proj_kwargs)"
   ]
  },
  {
   "cell_type": "code",
   "execution_count": null,
   "metadata": {},
   "outputs": [],
   "source": [
    "# set the projection to specify for all geoplotting in this notebook\n",
    "proj = load_projection(dict(name=\"EqualEarth\"))"
   ]
  },
  {
   "cell_type": "code",
   "execution_count": null,
   "metadata": {},
   "outputs": [],
   "source": [
    "import hvplot.pandas\n",
    "\n",
    "hv.extension(\"bokeh\")\n",
    "bz.hvplot(\n",
    "    geo=True,\n",
    "    tiles=\"OSM\",\n",
    "    hover_cols=[\"zone_name\", \"country\"],\n",
    "    c=\"zone_name\",\n",
    "    frame_height=700,\n",
    "    alpha=0.2,\n",
    "    legend=False,\n",
    ").opts(xaxis=None, yaxis=None, active_tools=[\"pan\", \"wheel_zoom\"])"
   ]
  },
  {
   "cell_type": "markdown",
   "metadata": {},
   "source": [
    "## Explore the Electricity reference grid"
   ]
  },
  {
   "cell_type": "markdown",
   "metadata": {},
   "source": [
    "The Electricity reference grid in the `PyPSA` model was implemented as HVAC lines that neglect KVL and only net transfer capacities (NTCs).\n",
    "\n",
    "In `PyPSA`, this can be represented by the `link` component with carrier set to 'DC'."
   ]
  },
  {
   "cell_type": "markdown",
   "metadata": {},
   "source": [
    "Let's have a look at those links:"
   ]
  },
  {
   "cell_type": "code",
   "execution_count": null,
   "metadata": {},
   "outputs": [],
   "source": [
    "reference_grid_elec = n.links.query(\"carrier == 'DC'\")\n",
    "(\n",
    "    reference_grid_elec.loc[\n",
    "        :, [\"p_nom\", \"p_nom_opt\", \"length\", \"p_nom_extendable\"]\n",
    "    ].head(10)\n",
    ")"
   ]
  },
  {
   "cell_type": "markdown",
   "metadata": {},
   "source": [
    "Or we can compute the total transmission capacity of the system in `TWkm`:"
   ]
  },
  {
   "cell_type": "code",
   "execution_count": null,
   "metadata": {},
   "outputs": [],
   "source": [
    "total_TWkm = (\n",
    "    reference_grid_elec.p_nom.div(1e6)  # convert from PyPSA's base unit MW to TW\n",
    "    .mul(reference_grid_elec.length)\n",
    "    .sum()\n",
    "    .round(2)\n",
    ")\n",
    "print(\n",
    "    f\"Total electricity reference grid has a transmission capacity of {total_TWkm} TWkm.\"\n",
    ")"
   ]
  },
  {
   "cell_type": "markdown",
   "metadata": {},
   "source": [
    "We can also check some individual number for specific connections using the `query()` or the `filter(like='<your-filter>')` method."
   ]
  },
  {
   "cell_type": "code",
   "execution_count": null,
   "metadata": {},
   "outputs": [],
   "source": [
    "# TODO: add task to extract and filter for specific capacity information"
   ]
  },
  {
   "cell_type": "markdown",
   "metadata": {},
   "source": [
    "Additionally, we can also use `PyPSA`'s built in interactive `n.plot.explore()` function to explore the electricity reference grid:"
   ]
  },
  {
   "cell_type": "code",
   "execution_count": null,
   "metadata": {},
   "outputs": [],
   "source": [
    "# explore the reference grid\n",
    "n.plot.explore()"
   ]
  },
  {
   "cell_type": "markdown",
   "metadata": {},
   "source": [
    "We can also plot the electricity grid by importing and utilizing a handy plotting function:"
   ]
  },
  {
   "cell_type": "code",
   "execution_count": null,
   "metadata": {},
   "outputs": [],
   "source": [
    "import cartopy.crs as ccrs\n",
    "from pypsa.plot.maps import add_legend_lines\n",
    "\n",
    "\n",
    "def plot_electricity_reference_grid(n, regions, proj):\n",
    "    lw_factor = 1e3 if n.lines.empty else 2e3\n",
    "\n",
    "    fig, ax = plt.subplots(figsize=(12, 12), subplot_kw={\"projection\": proj})\n",
    "    regions.to_crs(proj.proj4_init).plot(\n",
    "        ax=ax, facecolor=\"none\", edgecolor=\"lightgray\", linewidth=0.75\n",
    "    )\n",
    "    n.plot.map(\n",
    "        ax=ax,\n",
    "        margin=0.06,\n",
    "        line_widths=n.lines.s_nom / lw_factor,\n",
    "        link_widths=n.links.p_nom / lw_factor,\n",
    "    )\n",
    "\n",
    "    if not n.lines.empty:\n",
    "        sizes_ac = [10, 20]\n",
    "        labels_ac = [f\"HVAC ({s} GW)\" for s in sizes_ac]\n",
    "        scale_ac = 1e3 / lw_factor\n",
    "        sizes_ac = [s * scale_ac for s in sizes_ac]\n",
    "\n",
    "        legend_kw_ac = dict(\n",
    "            loc=[0.25, 0.9],\n",
    "            frameon=False,\n",
    "            labelspacing=0.5,\n",
    "            handletextpad=1,\n",
    "            fontsize=13,\n",
    "        )\n",
    "\n",
    "        add_legend_lines(\n",
    "            ax,\n",
    "            sizes_ac,\n",
    "            labels_ac,\n",
    "            patch_kw=dict(color=\"rosybrown\"),\n",
    "            legend_kw=legend_kw_ac,\n",
    "        )\n",
    "\n",
    "    if not n.links.empty:\n",
    "        sizes_dc = [1, 5]\n",
    "        labels_dc = [f\"HVDC ({s} GW)\" for s in sizes_dc]\n",
    "        scale_dc = 1e3 / lw_factor\n",
    "        sizes_dc = [s * scale_dc for s in sizes_dc]\n",
    "\n",
    "        legend_kw_dc = dict(\n",
    "            loc=[0.0, 0.9],\n",
    "            frameon=False,\n",
    "            labelspacing=0.5,\n",
    "            handletextpad=1,\n",
    "            fontsize=13,\n",
    "        )\n",
    "\n",
    "        add_legend_lines(\n",
    "            ax,\n",
    "            sizes_dc,\n",
    "            labels_dc,\n",
    "            patch_kw=dict(color=\"darkseagreen\"),\n",
    "            legend_kw=legend_kw_dc,\n",
    "        )\n",
    "\n",
    "    plt.show()"
   ]
  },
  {
   "cell_type": "code",
   "execution_count": null,
   "metadata": {},
   "outputs": [],
   "source": [
    "plot_electricity_reference_grid(n, bz, proj)"
   ]
  },
  {
   "cell_type": "markdown",
   "metadata": {},
   "source": [
    "## Explore the Hydrogen reference grid"
   ]
  },
  {
   "cell_type": "markdown",
   "metadata": {},
   "source": [
    "Similar to the Electricity reference grid, the H2 reference grid in the `PyPSA` model was implemented using the `link` component to represent the transport model of the Scenario Building exercise."
   ]
  },
  {
   "cell_type": "markdown",
   "metadata": {},
   "source": [
    "Let's have a look at those Hydrogen reference grid links:"
   ]
  },
  {
   "cell_type": "code",
   "execution_count": null,
   "metadata": {},
   "outputs": [],
   "source": [
    "reference_grid_h2 = n.links.query(\"carrier == 'H2 pipeline'\")\n",
    "(reference_grid_h2.loc[:, [\"p_nom\", \"p_nom_opt\", \"p_nom_extendable\"]].head(10))"
   ]
  },
  {
   "cell_type": "markdown",
   "metadata": {},
   "source": [
    "Again, we can compute the total transmission capacity of the system in `TWkm`:"
   ]
  },
  {
   "cell_type": "code",
   "execution_count": null,
   "metadata": {},
   "outputs": [],
   "source": [
    "total_TWkm = (\n",
    "    reference_grid_h2.p_nom.div(1e6)  # convert from PyPSA's base unit MW to TW\n",
    "    .mul(reference_grid.length)\n",
    "    .sum()\n",
    "    .round(2)\n",
    ")\n",
    "print(f\"The H2 reference grid has a total transmission capacity of {total_TWkm} TWkm.\")"
   ]
  },
  {
   "cell_type": "markdown",
   "metadata": {},
   "source": [
    "We can also check some individual number for specific connections:"
   ]
  },
  {
   "cell_type": "code",
   "execution_count": null,
   "metadata": {},
   "outputs": [],
   "source": [
    "# TODO: add task to extract and filter for specific capacity information"
   ]
  },
  {
   "cell_type": "markdown",
   "metadata": {},
   "source": [
    "Again, we can also use `PyPSA`'s built in interactive `n.plot.explore()` function to explore the hydrogen reference grid. \n",
    "\n",
    "As we can see, the spatial resolution of the H2 reference grid is different to the electricity reference grid."
   ]
  },
  {
   "cell_type": "code",
   "execution_count": null,
   "metadata": {},
   "outputs": [],
   "source": [
    "# explore the reference grid\n",
    "n.plot.explore()"
   ]
  },
  {
   "cell_type": "markdown",
   "metadata": {},
   "source": [
    "We can also plot the electricity grid by importing and utilizing a handy plotting function:"
   ]
  },
  {
   "cell_type": "code",
   "execution_count": null,
   "metadata": {},
   "outputs": [],
   "source": [
    "import cartopy.crs as ccrs\n",
    "from pypsa.plot import add_legend_circles, add_legend_lines, add_legend_patches\n",
    "\n",
    "\n",
    "def load_projection(plotting_params):\n",
    "    proj_kwargs = plotting_params.get(\"projection\", dict(name=\"EqualEarth\"))\n",
    "    proj_func = getattr(ccrs, proj_kwargs.pop(\"name\"))\n",
    "    return proj_func(**proj_kwargs)\n",
    "\n",
    "\n",
    "def plot_h2_reference_grid(network, map_opts):\n",
    "    n = network.copy()\n",
    "\n",
    "    linewidth_factor = 4e3\n",
    "\n",
    "    n.links.drop(\n",
    "        n.links.index[~n.links.carrier.str.contains(\"H2 pipeline\")], inplace=True\n",
    "    )\n",
    "    h2_pipes = n.links[n.links.carrier == \"H2 pipeline\"].p_nom\n",
    "    link_widths_total = h2_pipes / linewidth_factor\n",
    "    if link_widths_total.notnull().empty:\n",
    "        print(\"No base H2 pipeline capacities to plot.\")\n",
    "        return\n",
    "    link_widths_total = link_widths_total.reindex(n.links.index).fillna(0.0)\n",
    "\n",
    "    proj = load_projection(dict(name=\"EqualEarth\"))\n",
    "    n.buses.drop(n.buses.index[~n.buses.carrier.str.contains(\"H2\")], inplace=True)\n",
    "\n",
    "    fig, ax = plt.subplots(figsize=(7, 6), subplot_kw={\"projection\": proj})\n",
    "    color_h2_pipe = \"#499a9c\"\n",
    "    color_h2_node = \"#ff29d9\"\n",
    "\n",
    "    n.plot(\n",
    "        geomap=True,\n",
    "        bus_sizes=0.1,\n",
    "        bus_colors=color_h2_node,\n",
    "        link_colors=color_h2_pipe,\n",
    "        link_widths=link_widths_total,\n",
    "        branch_components=[\"Link\"],\n",
    "        ax=ax,\n",
    "        **map_opts,\n",
    "    )\n",
    "\n",
    "    sizes = [30, 10]\n",
    "    labels = [f\"{s} GW\" for s in sizes]\n",
    "    scale = 1e3 / 4e3\n",
    "    sizes = [s * scale for s in sizes]\n",
    "\n",
    "    legend_kw = dict(\n",
    "        loc=\"upper left\",\n",
    "        bbox_to_anchor=(0.01, 1.07),\n",
    "        frameon=False,\n",
    "        ncol=2,\n",
    "        labelspacing=0.8,\n",
    "        handletextpad=1,\n",
    "    )\n",
    "\n",
    "    add_legend_lines(\n",
    "        ax,\n",
    "        sizes,\n",
    "        labels,\n",
    "        patch_kw=dict(color=\"lightgrey\"),\n",
    "        legend_kw=legend_kw,\n",
    "    )\n",
    "\n",
    "    legend_kw = dict(\n",
    "        loc=\"upper left\",\n",
    "        bbox_to_anchor=(0.25, 1.13),\n",
    "        labelspacing=0.8,\n",
    "        handletextpad=0,\n",
    "        frameon=False,\n",
    "    )\n",
    "\n",
    "    add_legend_circles(\n",
    "        ax,\n",
    "        sizes=[0.2],\n",
    "        labels=[\"H2 Node\"],\n",
    "        srid=n.srid,\n",
    "        patch_kw=dict(facecolor=color_h2_node),\n",
    "        legend_kw=legend_kw,\n",
    "    )\n",
    "\n",
    "    colors = [color_h2_pipe]\n",
    "    labels = [\"H2 Pipeline\"]\n",
    "\n",
    "    legend_kw = dict(\n",
    "        loc=\"upper left\",\n",
    "        bbox_to_anchor=(0, 1.13),\n",
    "        ncol=1,\n",
    "        frameon=False,\n",
    "    )\n",
    "\n",
    "    add_legend_patches(ax, colors, labels, legend_kw=legend_kw)\n",
    "\n",
    "    ax.set_facecolor(\"white\")\n",
    "\n",
    "    plt.show()"
   ]
  },
  {
   "cell_type": "code",
   "execution_count": null,
   "metadata": {},
   "outputs": [],
   "source": [
    "proj = load_projection(dict(name=\"EqualEarth\"))\n",
    "map_opts = {\n",
    "    \"boundaries\": [-11, 30, 34, 71],\n",
    "    \"color_geomap\": {\n",
    "        \"ocean\": \"white\",\n",
    "        \"land\": \"white\",\n",
    "    },\n",
    "}"
   ]
  },
  {
   "cell_type": "code",
   "execution_count": null,
   "metadata": {},
   "outputs": [],
   "source": [
    "plot_h2_reference_grid(n, map_opts)"
   ]
  },
  {
   "cell_type": "markdown",
   "metadata": {},
   "source": [
    "# Hands-on Session 2: Extracting insights & Plotting"
   ]
  },
  {
   "cell_type": "markdown",
   "metadata": {},
   "source": []
  }
 ],
 "metadata": {
  "interpreter": {
   "hash": "d7a24397e4ee6a247c9cde6d74afe4fdad1f4c07dd327853f4afaeaad3a1459b"
  },
  "kernelspec": {
   "display_name": "",
   "language": "python",
   "name": ""
  },
  "language_info": {
   "codemirror_mode": {
    "name": "ipython",
    "version": 3
   },
   "file_extension": ".py",
   "mimetype": "text/x-python",
   "name": "python",
   "nbconvert_exporter": "python",
   "pygments_lexer": "ipython3",
   "version": "3.12.9"
  }
 },
 "nbformat": 4,
 "nbformat_minor": 4
}
